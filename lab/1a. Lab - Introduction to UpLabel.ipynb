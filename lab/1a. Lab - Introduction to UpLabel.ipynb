{
 "cells": [
  {
   "cell_type": "markdown",
   "metadata": {},
   "source": [
    "<img src=\"../assets/UpLabel.png\" width=\"400\" align=\"left\"><br><br><br><br>\n",
    "\n",
    "# Introduction to UpLabel\n",
    "\n",
    "UpLabel is a lightweight, Python-based and modular tool which serves to support your machine learning tasks by making the data labeling process more efficient and structured. UpLabel is presented and tested within the MLADS-Session *\"Distributed and Automated Data Labeling using Active Learning: Insights from the Field\"*.\n",
    " \n",
    "### Session Description\n",
    "High-quality training data is essential for succeeding at any supervised machine learning task. There are numerous open source tools that allow for a structured approach to labeling. Instead of randomly choosing labeling data, we make use of machine learning itself for continuously improving the training data quality. Based on the expertise of the labelers as well as the complexity of the data, labeling tasks can be distrubuted in an intelligent way. Based on a real-world example from one of our customers, we will show how to apply the latest technology to optimize the task of labeling data for NLP problems.  \n",
    "\n",
    "### User and Component Flow\n",
    "The following images serve to illustrate the user labeler flow and the software component flow.\n",
    "\n",
    "#### Software Component Flow\n",
    "<img src=\"../assets/MLADS_Components.png\" width=\"60%\" align=\"left\"><br>\n",
    "\n",
    "- Case Management\n",
    "\t- Existent case can be opened or a new one is created, in case there is none existing yet\n",
    "\t- Either an existing split or the raw data  gets loaded\n",
    "- Labeling Performance Evaluator\n",
    "\t- if a case is already existing, the labeler performance after the first iteration gets assessed\n",
    "\n",
    "<img src=\"../assets/MLADS_UserFlow.png\" width=\"60%\" align=\"left\">"
   ]
  },
  {
   "cell_type": "markdown",
   "metadata": {},
   "source": [
    "### Prepare Workspace\n",
    "\n",
    "Required libraries are loaded below, for the most part they get imported by the main-script."
   ]
  },
  {
   "cell_type": "code",
   "execution_count": 1,
   "metadata": {},
   "outputs": [],
   "source": [
    "import matplotlib as plt\n",
    "import sys\n",
    "\n",
    "sys.path.append('../code')\n",
    "import main"
   ]
  },
  {
   "cell_type": "code",
   "execution_count": 2,
   "metadata": {},
   "outputs": [],
   "source": [
    "%matplotlib inline"
   ]
  },
  {
   "cell_type": "markdown",
   "metadata": {},
   "source": [
    "## Task Setup\n",
    "\n",
    "There are two possible ways to go for this session:\n",
    "1. You can use our example data (German news data)\n",
    "2. Or your own data, if you brought some.\n",
    "\n",
    "#### If you want to use our example:\n",
    "- Use 'lab' as your project reference below (see step *\"Run Iteration #0\"*). The example case will be loaded.\n",
    "- Set the `dir` parameter to the folder, where the lab data is located, e.g. `C:/uplabel/data/lab/`\n",
    "\n",
    "#### If you brought your own data:\n",
    "- Either create a task config (either copy the code below and save it as `params.yml`) and save it in a subfolder of `task`\n",
    "- The task can be named as you like\n",
    "- Or simply rename the folder \"sample\" to your desired project name and use the sample file in it\n",
    "- Set the `dir` parameter to the folder, where your data is going to be located\n",
    "\n",
    "```yaml\n",
    "data:\n",
    "    dir: ~/[YOUR DIRECTORY GOES HERE]/[projectname]\n",
    "    source: input.txt\n",
    "    cols: ['text','label']\n",
    "    extras: []\n",
    "    target_column: label\n",
    "    text_column: text\n",
    "parameters:\n",
    "    task: cat\n",
    "    language: de\n",
    "    labelers: 3\n",
    "    min_split_size: 200\n",
    "    max_split_size : False\n",
    "    quality: 1\n",
    "    estimate_clusters: True\n",
    "    quality_size: 0.1\n",
    "    overlap_size: 0.1\n",
    "```\n"
   ]
  },
  {
   "cell_type": "markdown",
   "metadata": {},
   "source": [
    "## Run Iteration #0\n",
    "\n",
    "- This is the start of the initial iteration of the UpLabel process. \n",
    "- Leave the parameter `'lab'` as it is, if you want to proceed with our German news dataset. \n",
    "- Otherwise, set the parameter depending of the name of your individual task."
   ]
  },
  {
   "cell_type": "code",
   "execution_count": 10,
   "metadata": {
    "scrolled": false
   },
   "outputs": [],
   "source": [
    "ul = main.Main('lab', debug_iter_id=0)"
   ]
  },
  {
   "cell_type": "markdown",
   "metadata": {},
   "source": [
    "## Fun part: label your data\n",
    "\n",
    "- After the first iteration, you can start labeling your data\n",
    "- You can find the data splits in the folder you have set to the `dir`-parameter\n",
    "- File names are named this way: \n",
    "    - `[original file name]-iteration-[iteration number]-[split number].xlsx`, like `data-iteration-1-1.xlsx`\n",
    "- Open your data and label it!"
   ]
  },
  {
   "cell_type": "code",
   "execution_count": null,
   "metadata": {},
   "outputs": [],
   "source": []
  },
  {
   "cell_type": "markdown",
   "metadata": {},
   "source": [
    "## Run Iteration #1"
   ]
  },
  {
   "cell_type": "code",
   "execution_count": null,
   "metadata": {},
   "outputs": [],
   "source": [
    "#split components"
   ]
  }
 ],
 "metadata": {
  "kernelspec": {
   "display_name": "uplab",
   "language": "python",
   "name": "uplab"
  },
  "language_info": {
   "codemirror_mode": {
    "name": "ipython",
    "version": 3
   },
   "file_extension": ".py",
   "mimetype": "text/x-python",
   "name": "python",
   "nbconvert_exporter": "python",
   "pygments_lexer": "ipython3",
   "version": "3.6.6"
  }
 },
 "nbformat": 4,
 "nbformat_minor": 2
}
