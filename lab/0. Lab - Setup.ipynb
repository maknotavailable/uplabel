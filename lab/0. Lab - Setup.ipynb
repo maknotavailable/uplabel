{
 "cells": [
  {
   "cell_type": "markdown",
   "metadata": {},
   "source": [
    "# Setup your Notebooks(.azure.com) Environment"
   ]
  },
  {
   "cell_type": "markdown",
   "metadata": {},
   "source": [
    "#### NOTE: only run this if you are using notebookes.azure.com, and have not already prepared your environment."
   ]
  },
  {
   "cell_type": "code",
   "execution_count": null,
   "metadata": {},
   "outputs": [],
   "source": [
    "!pip install -U spacy==2.1.3\n",
    "!pip install imblearn\n",
    "!pip install openpyxl\n",
    "!pip install pyyaml\n",
    "!pip install xlrd\n",
    "!python -m spacy download de"
   ]
  }
 ],
 "metadata": {
  "kernelspec": {
   "display_name": "Python (uplabel)",
   "language": "python",
   "name": "uplab"
  },
  "language_info": {
   "codemirror_mode": {
    "name": "ipython",
    "version": 3
   },
   "file_extension": ".py",
   "mimetype": "text/x-python",
   "name": "python",
   "nbconvert_exporter": "python",
   "pygments_lexer": "ipython3",
   "version": "3.6.6"
  }
 },
 "nbformat": 4,
 "nbformat_minor": 2
}
