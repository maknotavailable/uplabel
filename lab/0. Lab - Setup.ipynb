{
 "cells": [
  {
   "cell_type": "markdown",
   "metadata": {},
   "source": [
    "<img src=\"../assets/UpLabel.png\" width=\"400\" align=\"left\"><br><br><br><br>\n",
    "\n",
    "# Setup your Notebooks(.azure.com) Environment"
   ]
  },
  {
   "attachments": {},
   "cell_type": "markdown",
   "metadata": {},
   "source": [
    "This notebook serves to setup your working environment for the lab session. It installs all the required packages you need for running through the code.\n",
    "\n",
    "#### NOTE: only run this if you are using [notebooks.azure.com](http://notebooks.azure.com), and have not yet prepared your environment.\n",
    "\n",
    "- Login with your credentials\n",
    "- Select `Upload GitHub Repo` on the top right\n",
    "- Insert `maknotavailable/uplabel` in the GitHub Repository field\n",
    "- Click `Import`\n",
    "\n",
    "<img src=\"../assets/get_repo.png\" align=\"center\">\n",
    "<img src=\"../assets/notebooks_setup.png\" align=\"center\" width=\"40%\">\n",
    "\n",
    "### Language support\n",
    "If you want to use a language other than German or English, please download the language specific model."
   ]
  },
  {
   "cell_type": "code",
   "execution_count": null,
   "metadata": {},
   "outputs": [],
   "source": [
    "!pip install -U spacy==2.1.3\n",
    "!pip install imbalanced-learn==0.4.3 \n",
    "!pip install openpyxl==2.6.2\n",
    "!pip install pyyaml==5.1\n",
    "!pip install xlrd==1.2.0\n",
    "!python -m spacy download de\n",
    "!python -m spacy download en"
   ]
  }
 ],
 "metadata": {
  "kernelspec": {
   "display_name": "uplab",
   "language": "python",
   "name": "uplab"
  },
  "language_info": {
   "codemirror_mode": {
    "name": "ipython",
    "version": 3
   },
   "file_extension": ".py",
   "mimetype": "text/x-python",
   "name": "python",
   "nbconvert_exporter": "python",
   "pygments_lexer": "ipython3",
   "version": "3.6.6"
  }
 },
 "nbformat": 4,
 "nbformat_minor": 2
}
