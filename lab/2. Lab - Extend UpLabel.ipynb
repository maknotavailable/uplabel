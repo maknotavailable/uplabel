{
 "cells": [
  {
   "cell_type": "markdown",
   "metadata": {},
   "source": [
    "<img src=\"../assets/UpLabel.png\" width=\"400\" align=\"left\"><br><br><br><br>\n",
    "\n",
    "# Extend UpLabel\n",
    "\n",
    "One of the possible workstreams during this session is to contribute to UpLabel. You can do this by getting your hands dirty and changing the code, or by writing down your ideas for the different sections below.\n",
    "\n",
    "### Available Tasks\n",
    "1. Support for **Named Entity Recognition**   \n",
    "2. Support **Multi-Label Classification**\n",
    "3. Evaluate results using a different **active learning** approach\n",
    "4. Different approach to **calculating complexity**\n",
    "5. How to **remove bias** from our data selection process.\n",
    "6. Any other feature of your choice\n",
    "\n",
    "### Submit\n",
    "After you complete one or more of the tasks above, please share this Jupyter Notebook with us! \n",
    "You can export it as HTML and send it to [makayser@microsoft.com](mailto:makayser@microsoft.com)"
   ]
  },
  {
   "cell_type": "markdown",
   "metadata": {},
   "source": [
    "### Prepare Workspace"
   ]
  },
  {
   "cell_type": "code",
   "execution_count": 1,
   "metadata": {},
   "outputs": [],
   "source": [
    "import sys\n",
    "sys.path.append('../code')\n",
    "import main\n",
    "import utils as ut\n",
    "import complexity as co\n",
    "import split as sp\n",
    "import join as jo"
   ]
  },
  {
   "cell_type": "code",
   "execution_count": 2,
   "metadata": {},
   "outputs": [],
   "source": [
    "%load_ext autoreload\n",
    "%autoreload 2"
   ]
  },
  {
   "cell_type": "markdown",
   "metadata": {},
   "source": [
    "## Option 1: Multi-Label Classification Support\n",
    "- Enabling the functionality of classification problems, where multiple labels may be assigned to each instance\n",
    "- We see this case especially in multi-intent email use-cases"
   ]
  },
  {
   "cell_type": "code",
   "execution_count": null,
   "metadata": {},
   "outputs": [],
   "source": []
  },
  {
   "cell_type": "markdown",
   "metadata": {},
   "source": [
    "## Option 2: Named Entity Recognition Support\n"
   ]
  },
  {
   "cell_type": "code",
   "execution_count": null,
   "metadata": {},
   "outputs": [],
   "source": []
  },
  {
   "cell_type": "markdown",
   "metadata": {},
   "source": [
    "## Option 3: Active Learning\n",
    "What are other ways how we can rank what data should be labeled first?"
   ]
  },
  {
   "cell_type": "code",
   "execution_count": null,
   "metadata": {},
   "outputs": [],
   "source": []
  },
  {
   "cell_type": "markdown",
   "metadata": {},
   "source": [
    "## Option 4: Complexity Score Calculation\n",
    "Currently we simply take the f1-score of the classification result (single test set) to estimate the complexity of a task. What are other ways we can calculate this?"
   ]
  },
  {
   "cell_type": "code",
   "execution_count": null,
   "metadata": {},
   "outputs": [],
   "source": []
  },
  {
   "cell_type": "markdown",
   "metadata": {},
   "source": [
    "## Option 5: Dealing with Bias \n",
    "How can we add features in order to outperform bias problems in machine learning (social bias, model drift, labeler expertise)?"
   ]
  },
  {
   "cell_type": "code",
   "execution_count": null,
   "metadata": {},
   "outputs": [],
   "source": []
  },
  {
   "cell_type": "markdown",
   "metadata": {},
   "source": [
    "## Option 6: ....Your Choice\n",
    "Are you missing a specific feature in this software which might be benefitial? \n",
    "Feel free to add a feature you might miss in this program."
   ]
  },
  {
   "cell_type": "code",
   "execution_count": null,
   "metadata": {},
   "outputs": [],
   "source": []
  },
  {
   "cell_type": "markdown",
   "metadata": {},
   "source": [
    "## Feedback\n",
    "What do you think about UpLabel?\n",
    "- What works well?\n",
    "- What can be added?\n",
    "- What should be improved?\n",
    "- Any flaws?"
   ]
  },
  {
   "cell_type": "markdown",
   "metadata": {},
   "source": []
  }
 ],
 "metadata": {
  "kernelspec": {
   "display_name": "uplab",
   "language": "python",
   "name": "uplab"
  },
  "language_info": {
   "codemirror_mode": {
    "name": "ipython",
    "version": 3
   },
   "file_extension": ".py",
   "mimetype": "text/x-python",
   "name": "python",
   "nbconvert_exporter": "python",
   "pygments_lexer": "ipython3",
   "version": "3.6.6"
  }
 },
 "nbformat": 4,
 "nbformat_minor": 2
}
