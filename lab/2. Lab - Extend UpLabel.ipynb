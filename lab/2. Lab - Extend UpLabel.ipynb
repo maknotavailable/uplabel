{
 "cells": [
  {
   "cell_type": "markdown",
   "metadata": {},
   "source": [
    "<img src=\"../assets/UpLabel.png\" width=\"400\" align=\"left\"><br><br><br><br>\n",
    "\n",
    "# Extend UpLabel\n",
    "\n",
    "One of the possible workstreams during this session is to integrate to contribute to UpLabel.\n",
    "\n",
    "### Available Tasks\n",
    "- Enable the tool to support:   \n",
    " - Named Entity Recognition   \n",
    " - Multi-Label Classification  \n",
    "- Evaluate results using a different Active Learning approach\n",
    "- Any other feature of your choice\n",
    "\n",
    "### Submit\n",
    "After you complete one or more of the tasks above, please share your Jupyter Notebook with us! \n",
    "You can export it as HTML and send it to [makayser@microsoft.com](mailto:makayser@microsoft.com)"
   ]
  },
  {
   "cell_type": "markdown",
   "metadata": {},
   "source": [
    "## Option 1: Active Learning"
   ]
  },
  {
   "cell_type": "code",
   "execution_count": null,
   "metadata": {},
   "outputs": [],
   "source": []
  },
  {
   "cell_type": "markdown",
   "metadata": {},
   "source": [
    "## Option 2: Complexity Score Calculation"
   ]
  },
  {
   "cell_type": "code",
   "execution_count": null,
   "metadata": {},
   "outputs": [],
   "source": []
  },
  {
   "cell_type": "markdown",
   "metadata": {},
   "source": [
    "## Option 3: Multi-Label Classification Support"
   ]
  },
  {
   "cell_type": "code",
   "execution_count": null,
   "metadata": {},
   "outputs": [],
   "source": []
  },
  {
   "cell_type": "markdown",
   "metadata": {},
   "source": [
    "## Option 4: Smart Stop Calculation"
   ]
  },
  {
   "cell_type": "code",
   "execution_count": null,
   "metadata": {},
   "outputs": [],
   "source": []
  },
  {
   "cell_type": "markdown",
   "metadata": {},
   "source": [
    "## Option 5: ....Your Choice"
   ]
  },
  {
   "cell_type": "code",
   "execution_count": null,
   "metadata": {},
   "outputs": [],
   "source": []
  },
  {
   "cell_type": "markdown",
   "metadata": {},
   "source": [
    "## Feedback\n",
    "What do you think about UpLabel?\n",
    "- What works well?\n",
    "- What can be added?\n",
    "- What should be improved?\n",
    "- Any flaws?"
   ]
  },
  {
   "cell_type": "markdown",
   "metadata": {},
   "source": []
  }
 ],
 "metadata": {
  "kernelspec": {
   "display_name": "uplab",
   "language": "python",
   "name": "uplab"
  },
  "language_info": {
   "codemirror_mode": {
    "name": "ipython",
    "version": 3
   },
   "file_extension": ".py",
   "mimetype": "text/x-python",
   "name": "python",
   "nbconvert_exporter": "python",
   "pygments_lexer": "ipython3",
   "version": "3.6.6"
  }
 },
 "nbformat": 4,
 "nbformat_minor": 2
}
