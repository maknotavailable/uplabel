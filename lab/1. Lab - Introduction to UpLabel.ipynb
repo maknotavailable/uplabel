{
 "cells": [
  {
   "cell_type": "markdown",
   "metadata": {},
   "source": [
    "<img src=\"../assets/UpLabel.png\" width=\"400\" align=\"left\"><br><br><br><br>\n",
    "\n",
    "# Introduction to UpLabel\n",
    "\n",
    "UpLabel is a lightweight, Python-based and modular tool which serves to support your machine learning tasks by making the data labeling process more efficient and structured. UpLabel is presented and tested within the MLADS-Session *\"Distributed and Automated Data Labeling using Active Learning: Insights from the Field\"*.\n",
    " \n",
    "## Session Description\n",
    "High-quality training data is essential for succeeding at any supervised machine learning task. There are numerous open source tools that allow for a structured approach to labeling. Instead of randomly choosing labeling data, we make use of machine learning itself for continuously improving the training data quality. Based on the expertise of the labelers as well as the complexity of the data, labeling tasks can be distrubuted in an intelligent way. Based on a real-world example from one of our customers, we will show how to apply the latest technology to optimize the task of labeling data for NLP problems.  \n",
    "\n",
    "## Software Component and User Flow\n",
    "The following images serve to illustrate the user labeler flow and the software component flow.\n",
    "\n",
    "### Software Component Flow\n",
    "---\n",
    "<p><img src=\"../assets/MLADS_Components.png\" width=\"60%\" align=\"center\"></p>\n",
    "\n",
    "### User Flow\n",
    "---\n",
    "<p><img src=\"../assets/MLADS_UserFlow.png\" width=\"60%\" align=\"center\"></p>"
   ]
  },
  {
   "cell_type": "markdown",
   "metadata": {},
   "source": [
    "### Prepare Workspace\n",
    "\n",
    "Required libraries are loaded below, for the most part they get imported by the main-script."
   ]
  },
  {
   "cell_type": "code",
   "execution_count": null,
   "metadata": {},
   "outputs": [],
   "source": [
    "import matplotlib as plt\n",
    "import sys\n",
    "\n",
    "sys.path.append('../code')\n",
    "import main"
   ]
  },
  {
   "cell_type": "code",
   "execution_count": null,
   "metadata": {},
   "outputs": [],
   "source": [
    "%matplotlib inline"
   ]
  },
  {
   "cell_type": "markdown",
   "metadata": {},
   "source": [
    "## Task Setup\n",
    "\n",
    "There are two possible ways to go for this session:\n",
    "1. You can use our example data (German news data)\n",
    "2. Or your own data, if you brought some.\n",
    "\n",
    "#### If you want to use our example:\n",
    "- Use 'lab' as your project reference below (see step *\"Run Iteration #0\"*). The example case will be loaded.\n",
    "- Set the `dir` parameter to the folder, where the lab data is located, e.g. `C:/uplabel/data/lab/`\n",
    "\n",
    "#### If you brought your own data:\n",
    "- Either create a task config (either copy the code below and save it as `params.yml`) and save it in a subfolder of `task`\n",
    "- The task can be named as you like\n",
    "- Or simply rename the folder \"sample\" to your desired project name and use the sample file in it\n",
    "- Set the `dir` parameter to the folder, where your data is going to be located\n",
    "\n",
    "```yaml\n",
    "data:\n",
    "    dir: ~/[YOUR DIRECTORY GOES HERE]/[projectname]\n",
    "    source: input.txt\n",
    "    cols: ['text','label']\n",
    "    extras: []\n",
    "    target_column: label\n",
    "    text_column: text\n",
    "parameters:\n",
    "    task: cat\n",
    "    language: de\n",
    "    labelers: 3\n",
    "    min_split_size: 0\n",
    "    max_split_size : 300\n",
    "    quality: 1\n",
    "    estimate_clusters: True\n",
    "    quality_size: 0.1\n",
    "    overlap_size: 0.1\n",
    "```\n"
   ]
  },
  {
   "cell_type": "code",
   "execution_count": null,
   "metadata": {},
   "outputs": [],
   "source": [
    "project_name = 'news_en'"
   ]
  },
  {
   "cell_type": "markdown",
   "metadata": {},
   "source": [
    "## Run Iteration #0\n",
    "\n",
    "- This is the start of the initial iteration of the UpLabel process. \n",
    "- Feel free to create your own project, by adding a parameter file to `\\tasks` and your data to `\\data\\[project name]`. Don't forget to update the `'project_name'` variable above, with the name of your task.\n",
    "\n",
    "Note: you can add `'debug_iter_id=X'` to repeat an iteration, where X is your iteration number."
   ]
  },
  {
   "cell_type": "code",
   "execution_count": null,
   "metadata": {
    "scrolled": false
   },
   "outputs": [],
   "source": [
    "main.Main(project_name)"
   ]
  },
  {
   "cell_type": "markdown",
   "metadata": {},
   "source": [
    "## Fun part: label your data\n",
    "\n",
    "- After the first iteration, you can start labeling your data\n",
    "- You can find the data splits in the folder you have set to the `dir`-parameter\n",
    "- File names are named this way: \n",
    "    - `[original file name]-it_[iteration number]-split_[split number].xlsx`, like `data-it_1-split_1.xlsx`\n",
    "- Open your data and label it!"
   ]
  },
  {
   "cell_type": "markdown",
   "metadata": {},
   "source": [
    "## Run Iteration #1"
   ]
  },
  {
   "cell_type": "code",
   "execution_count": null,
   "metadata": {},
   "outputs": [],
   "source": [
    "main.Main(project_name)"
   ]
  },
  {
   "cell_type": "markdown",
   "metadata": {},
   "source": [
    "## Label some more!"
   ]
  },
  {
   "cell_type": "markdown",
   "metadata": {},
   "source": [
    "## Run Iteration #2"
   ]
  },
  {
   "cell_type": "code",
   "execution_count": null,
   "metadata": {},
   "outputs": [],
   "source": [
    "main.Main(project_name)"
   ]
  }
 ],
 "metadata": {
  "kernelspec": {
   "display_name": "Python (uplabel)",
   "language": "python",
   "name": "uplab"
  },
  "language_info": {
   "codemirror_mode": {
    "name": "ipython",
    "version": 3
   },
   "file_extension": ".py",
   "mimetype": "text/x-python",
   "name": "python",
   "nbconvert_exporter": "python",
   "pygments_lexer": "ipython3",
   "version": "3.6.6"
  }
 },
 "nbformat": 4,
 "nbformat_minor": 2
}
