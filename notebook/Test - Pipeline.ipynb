{
 "cells": [
  {
   "cell_type": "markdown",
   "metadata": {},
   "source": [
    "# Unified UpLabel Pipeline\n",
    "\n",
    "Testing ground for unified labeling pipeline."
   ]
  },
  {
   "cell_type": "code",
   "execution_count": 151,
   "metadata": {},
   "outputs": [],
   "source": [
    "import pandas as pd\n",
    "import configparser\n",
    "import sys\n",
    "\n",
    "sys.path.append('../code')\n",
    "import main\n",
    "import utils as ut\n",
    "import complexity as cp\n",
    "import split as sp\n",
    "import join as jo"
   ]
  },
  {
   "cell_type": "code",
   "execution_count": 152,
   "metadata": {},
   "outputs": [
    {
     "name": "stdout",
     "output_type": "stream",
     "text": [
      "The autoreload extension is already loaded. To reload it, use:\n",
      "  %reload_ext autoreload\n"
     ]
    }
   ],
   "source": [
    "%load_ext autoreload\n",
    "%autoreload 2"
   ]
  },
  {
   "cell_type": "code",
   "execution_count": 153,
   "metadata": {},
   "outputs": [
    {
     "data": {
      "text/plain": [
       "['../config.ini']"
      ]
     },
     "execution_count": 153,
     "metadata": {},
     "output_type": "execute_result"
    }
   ],
   "source": [
    "config = configparser.ConfigParser()\n",
    "config.read('../config.ini', encoding='utf-8')"
   ]
  },
  {
   "cell_type": "code",
   "execution_count": 154,
   "metadata": {},
   "outputs": [],
   "source": [
    "data_dir = config['path']['data']"
   ]
  },
  {
   "cell_type": "markdown",
   "metadata": {},
   "source": [
    "## Input \n",
    "Parameters & Upload.\n",
    "- File (Raw Data + expert labeled)\n",
    "- Column names\n",
    "- Extra columns (to be ingored in processing, but output)\n",
    "- Target column\n",
    "- Language\n",
    "- Task Type\n",
    "- N# labelers (0..*)\n",
    "- Quality: strict/easy (strict considers tags)"
   ]
  },
  {
   "cell_type": "code",
   "execution_count": 5,
   "metadata": {},
   "outputs": [
    {
     "data": {
      "text/plain": [
       "Index(['label', 'text', 'tag'], dtype='object')"
      ]
     },
     "execution_count": 5,
     "metadata": {},
     "output_type": "execute_result"
    }
   ],
   "source": [
    "df = pd.read_csv(data_dir+'lab/input.txt', sep='\\t', encoding='utf-8')\n",
    "df.columns"
   ]
  },
  {
   "cell_type": "markdown",
   "metadata": {},
   "source": [
    "## Prepare Data\n",
    "\n",
    "- Unified format\n",
    "- remove duplicates\n",
    "- Warning message for unknown items\n",
    "- handle tags"
   ]
  },
  {
   "cell_type": "code",
   "execution_count": 190,
   "metadata": {},
   "outputs": [
    {
     "name": "stdout",
     "output_type": "stream",
     "text": [
      "Starting UpLabel >>>>\tProject TAL\n",
      "####################################\n",
      "**** \tITERATION # 0 \t\t****\n",
      "####################################\n",
      "\n",
      "[INFO] Input Length -> 7766\n",
      "[INFO] Label Summary: \n",
      "gracePeriodDate    47\n",
      "None               28\n",
      "damageDate         19\n",
      "documentDate        7\n",
      "Name: label, dtype: int64\n",
      "[INFO] Post Duplicate/Missing Length -> 3805\n",
      "[INFO] Not enough examples for label ('documentDate', 5)\n",
      "\n",
      "[INFO] Estimating complexity using UNSUPERVISED approach.\n"
     ]
    },
    {
     "name": "stderr",
     "output_type": "stream",
     "text": [
      "C:\\Users\\makayser\\AppData\\Roaming\\Python\\Python36\\site-packages\\imblearn\\pipeline.py:190: DeprecationWarning: The 'cachedir' attribute has been deprecated in version 0.12 and will be removed in version 0.14.\n",
      "Use os.path.join(memory.location, 'joblib') attribute instead.\n",
      "  if memory.cachedir is None:\n",
      "C:\\Users\\makayser\\AppData\\Roaming\\Python\\Python36\\site-packages\\imblearn\\pipeline.py:190: DeprecationWarning: The 'cachedir' attribute has been deprecated in version 0.12 and will be removed in version 0.14.\n",
      "Use os.path.join(memory.location, 'joblib') attribute instead.\n",
      "  if memory.cachedir is None:\n",
      "C:\\Users\\makayser\\AppData\\Roaming\\Python\\Python36\\site-packages\\imblearn\\pipeline.py:190: DeprecationWarning: The 'cachedir' attribute has been deprecated in version 0.12 and will be removed in version 0.14.\n",
      "Use os.path.join(memory.location, 'joblib') attribute instead.\n",
      "  if memory.cachedir is None:\n"
     ]
    },
    {
     "name": "stdout",
     "output_type": "stream",
     "text": [
      "\t[INFO] Complexity Score -> 0.503\n",
      "\t[INFO] Applying model to data\n",
      "\n",
      "[INFO] Applying split \n",
      "\t[INFO] Number of splits -> 2 \n",
      "\t[INFO] Sample Fraction -> 49.7467%\n",
      "\t[INFO] Quality Size -> 7\n",
      "\t[INFO] Overlap Size -> 50\n",
      "[INFO] Created split: C:/Users/makayser/Desktop/ul_local/tal/input-it_0-split_1.xlsx\n",
      "gracePeriodDate    714\n",
      "None               165\n",
      "damageDate          98\n",
      "Name: label, dtype: int64\n",
      "[INFO] Created split: C:/Users/makayser/Desktop/ul_local/tal/input-it_0-split_2.xlsx\n",
      "gracePeriodDate    716\n",
      "None               165\n",
      "damageDate          98\n",
      "Name: label, dtype: int64\n"
     ]
    },
    {
     "data": {
      "text/plain": [
       "<main.Main at 0x1d99999cac8>"
      ]
     },
     "execution_count": 190,
     "metadata": {},
     "output_type": "execute_result"
    }
   ],
   "source": [
    "main.Main('tal', debug_iter_id=0)"
   ]
  },
  {
   "cell_type": "code",
   "execution_count": 191,
   "metadata": {
    "scrolled": false
   },
   "outputs": [
    {
     "name": "stdout",
     "output_type": "stream",
     "text": [
      "Starting UpLabel >>>>\tProject TAL\n",
      "####################################\n",
      "**** \tITERATION # 1 \t\t****\n",
      "####################################\n",
      "\n",
      "[INFO] Loading splits from iteration 0.\n",
      "\t[INFO] Calculating labeler score\n",
      "\t[INFO] Labeler 1 Score -> 0.84\n",
      "\t[INFO] Labeler 2 Score -> 0.84\n",
      "[INFO] Input Length -> 3805\n",
      "[INFO] Label Summary: \n",
      "gracePeriodDate    1414\n",
      "None                341\n",
      "damageDate          206\n",
      "documentDate          5\n",
      "Name: label, dtype: int64\n",
      "[INFO] Post Duplicate/Missing Length -> 3805\n",
      "[INFO] Not enough examples for label ('documentDate', 5)\n",
      "\n",
      "[INFO] Estimating complexity using UNSUPERVISED approach.\n"
     ]
    },
    {
     "name": "stderr",
     "output_type": "stream",
     "text": [
      "C:\\Users\\makayser\\AppData\\Roaming\\Python\\Python36\\site-packages\\imblearn\\pipeline.py:190: DeprecationWarning: The 'cachedir' attribute has been deprecated in version 0.12 and will be removed in version 0.14.\n",
      "Use os.path.join(memory.location, 'joblib') attribute instead.\n",
      "  if memory.cachedir is None:\n",
      "C:\\Users\\makayser\\AppData\\Roaming\\Python\\Python36\\site-packages\\imblearn\\pipeline.py:190: DeprecationWarning: The 'cachedir' attribute has been deprecated in version 0.12 and will be removed in version 0.14.\n",
      "Use os.path.join(memory.location, 'joblib') attribute instead.\n",
      "  if memory.cachedir is None:\n",
      "C:\\Users\\makayser\\AppData\\Roaming\\Python\\Python36\\site-packages\\imblearn\\pipeline.py:190: DeprecationWarning: The 'cachedir' attribute has been deprecated in version 0.12 and will be removed in version 0.14.\n",
      "Use os.path.join(memory.location, 'joblib') attribute instead.\n",
      "  if memory.cachedir is None:\n"
     ]
    },
    {
     "name": "stdout",
     "output_type": "stream",
     "text": [
      "\t[INFO] Complexity Score -> 0.503\n",
      "\t[INFO] Applying model to data\n",
      "\n",
      "[INFO] Applying split \n",
      "\t[INFO] Number of splits -> 2 \n",
      "\t[INFO] Sample Fraction -> 49.6809%\n",
      "\t[INFO] Quality Size -> 196\n",
      "\t[INFO] Overlap Size -> 50\n",
      "[INFO] Created split: C:/Users/makayser/Desktop/ul_local/tal/input-it_1-split_1.xlsx\n",
      "None               756\n",
      "gracePeriodDate    218\n",
      "Name: label, dtype: int64\n",
      "[INFO] Created split: C:/Users/makayser/Desktop/ul_local/tal/input-it_1-split_2.xlsx\n",
      "None               756\n",
      "gracePeriodDate    219\n",
      "Name: label, dtype: int64\n",
      "Wall time: 20.5 s\n"
     ]
    },
    {
     "data": {
      "text/plain": [
       "<main.Main at 0x1d9afdbb1d0>"
      ]
     },
     "execution_count": 191,
     "metadata": {},
     "output_type": "execute_result"
    }
   ],
   "source": [
    "%%time\n",
    "\n",
    "main.Main('tal', debug_iter_id=1)"
   ]
  },
  {
   "cell_type": "markdown",
   "metadata": {},
   "source": [
    "## Estimate Complexity\n"
   ]
  },
  {
   "cell_type": "code",
   "execution_count": 10,
   "metadata": {},
   "outputs": [
    {
     "name": "stdout",
     "output_type": "stream",
     "text": [
      "[INFO] Not enough examples for label ('documentDate', 5)\n",
      "[INFO] Estimating complexity.\n",
      "[INFO] Data available for training -> 74\n",
      "[INFO] Complexity Estimation Report: \n",
      "               precision    recall  f1-score   support\n",
      "\n",
      "           0       0.80      0.80      0.80         5\n",
      "           1       1.00      0.75      0.86         4\n",
      "           2       0.67      0.67      0.67         3\n",
      "           3       0.00      0.00      0.00         1\n",
      "\n",
      "   micro avg       0.69      0.69      0.69        13\n",
      "   macro avg       0.62      0.55      0.58        13\n",
      "weighted avg       0.77      0.69      0.73        13\n",
      "\n"
     ]
    },
    {
     "data": {
      "text/plain": [
       "0.6923076923076923"
      ]
     },
     "execution_count": 10,
     "metadata": {},
     "output_type": "execute_result"
    },
    {
     "data": {
      "image/png": "[encoded data removed]",
      "text/plain": [
       "<Figure size 432x288 with 1 Axes>"
      ]
     },
     "metadata": {
      "needs_background": "light"
     },
     "output_type": "display_data"
    }
   ],
   "source": [
    "cp.run(df_data, estimate_clusters=False)"
   ]
  },
  {
   "cell_type": "markdown",
   "metadata": {},
   "source": [
    "## Cluster\n",
    "Only applies if complexity calculation not sufficient."
   ]
  },
  {
   "cell_type": "code",
   "execution_count": null,
   "metadata": {},
   "outputs": [],
   "source": []
  },
  {
   "cell_type": "markdown",
   "metadata": {},
   "source": [
    "## Determine Split\n",
    "Overlap"
   ]
  },
  {
   "cell_type": "code",
   "execution_count": 38,
   "metadata": {},
   "outputs": [
    {
     "data": {
      "text/plain": [
       "(10, 0.27)"
      ]
     },
     "execution_count": 38,
     "metadata": {},
     "output_type": "execute_result"
    }
   ],
   "source": [
    "sp.calculate_split(3806, 0.73, 10)"
   ]
  },
  {
   "cell_type": "code",
   "execution_count": 46,
   "metadata": {},
   "outputs": [],
   "source": [
    "# splits = sp.apply_split(df_all, '../raw.txt', complexity=0.6, labelers=1)"
   ]
  },
  {
   "cell_type": "markdown",
   "metadata": {},
   "source": [
    "## Output Split\n",
    "- Split (x exports)\n",
    "- Include extra columns\n",
    "- Include label columns: scored, label, comment"
   ]
  },
  {
   "cell_type": "code",
   "execution_count": null,
   "metadata": {},
   "outputs": [],
   "source": []
  },
  {
   "cell_type": "markdown",
   "metadata": {},
   "source": [
    "## Join"
   ]
  },
  {
   "cell_type": "code",
   "execution_count": 182,
   "metadata": {
    "scrolled": true
   },
   "outputs": [
    {
     "name": "stdout",
     "output_type": "stream",
     "text": [
      "16\n",
      "\t[INFO] Quality Score of Labeler 1 -> 0.0625\n",
      "16\n",
      "\t[INFO] Quality Score of Labeler 2 -> 0.0\n"
     ]
    }
   ],
   "source": [
    "t1, t2, t3 = jo.load_splits(data_dir + 'tal/', 0)"
   ]
  },
  {
   "cell_type": "code",
   "execution_count": 184,
   "metadata": {
    "scrolled": true
   },
   "outputs": [],
   "source": [
    "tc = jo.join_splits(t1, t2)"
   ]
  },
  {
   "cell_type": "markdown",
   "metadata": {},
   "source": [
    "### Output Instructions\n",
    "\n",
    "- Labels:  \n",
    "-- as defined   \n",
    "-- None is 'None'  "
   ]
  },
  {
   "cell_type": "code",
   "execution_count": null,
   "metadata": {},
   "outputs": [],
   "source": []
  }
 ],
 "metadata": {
  "kernelspec": {
   "display_name": "Python (uplabel)",
   "language": "python",
   "name": "uplab"
  },
  "language_info": {
   "codemirror_mode": {
    "name": "ipython",
    "version": 3
   },
   "file_extension": ".py",
   "mimetype": "text/x-python",
   "name": "python",
   "nbconvert_exporter": "python",
   "pygments_lexer": "ipython3",
   "version": "3.6.6"
  }
 },
 "nbformat": 4,
 "nbformat_minor": 2
}
