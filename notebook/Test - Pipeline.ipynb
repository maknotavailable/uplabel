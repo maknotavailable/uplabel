{
 "cells": [
  {
   "cell_type": "markdown",
   "metadata": {},
   "source": [
    "# Unified UpLabel Pipeline\n",
    "\n",
    "Testing ground for unified labeling pipeline."
   ]
  },
  {
   "cell_type": "code",
   "execution_count": 13,
   "metadata": {},
   "outputs": [],
   "source": [
    "import pandas as pd\n",
    "import configparser\n",
    "import sys\n",
    "\n",
    "sys.path.append('../code')\n",
    "import main\n",
    "import utils as ut\n",
    "import complexity as cp\n",
    "import split as sp"
   ]
  },
  {
   "cell_type": "code",
   "execution_count": 14,
   "metadata": {},
   "outputs": [
    {
     "name": "stdout",
     "output_type": "stream",
     "text": [
      "The autoreload extension is already loaded. To reload it, use:\n",
      "  %reload_ext autoreload\n"
     ]
    }
   ],
   "source": [
    "%load_ext autoreload\n",
    "%autoreload 2"
   ]
  },
  {
   "cell_type": "code",
   "execution_count": 15,
   "metadata": {},
   "outputs": [
    {
     "data": {
      "text/plain": [
       "['../config.ini']"
      ]
     },
     "execution_count": 15,
     "metadata": {},
     "output_type": "execute_result"
    }
   ],
   "source": [
    "config = configparser.ConfigParser()\n",
    "config.read('../config.ini', encoding='utf-8')"
   ]
  },
  {
   "cell_type": "code",
   "execution_count": 16,
   "metadata": {},
   "outputs": [],
   "source": [
    "data_dir = config['path']['data']"
   ]
  },
  {
   "cell_type": "markdown",
   "metadata": {},
   "source": [
    "## Input \n",
    "Parameters & Upload.\n",
    "- File (Raw Data + expert labelled)\n",
    "- Column names\n",
    "- Extra columns (to be ingored in processing, but output)\n",
    "- Target column\n",
    "- Language\n",
    "- Task Type\n",
    "- N# labelers (0..*)\n",
    "- Quality: strict/easy (strict considers tags)"
   ]
  },
  {
   "cell_type": "code",
   "execution_count": 17,
   "metadata": {},
   "outputs": [
    {
     "data": {
      "text/plain": [
       "Index(['label', 'text', 'tag'], dtype='object')"
      ]
     },
     "execution_count": 17,
     "metadata": {},
     "output_type": "execute_result"
    }
   ],
   "source": [
    "df = pd.read_csv(data_dir+'lab/input.txt', sep='\\t', encoding='utf-8')\n",
    "df.columns"
   ]
  },
  {
   "cell_type": "code",
   "execution_count": 18,
   "metadata": {},
   "outputs": [
    {
     "data": {
      "text/html": [
       "<div>\n",
       "<style scoped>\n",
       "    .dataframe tbody tr th:only-of-type {\n",
       "        vertical-align: middle;\n",
       "    }\n",
       "\n",
       "    .dataframe tbody tr th {\n",
       "        vertical-align: top;\n",
       "    }\n",
       "\n",
       "    .dataframe thead th {\n",
       "        text-align: right;\n",
       "    }\n",
       "</style>\n",
       "<table border=\"1\" class=\"dataframe\">\n",
       "  <thead>\n",
       "    <tr style=\"text-align: right;\">\n",
       "      <th></th>\n",
       "      <th>label</th>\n",
       "      <th>text</th>\n",
       "      <th>tag</th>\n",
       "    </tr>\n",
       "  </thead>\n",
       "  <tbody>\n",
       "    <tr>\n",
       "      <th>0</th>\n",
       "      <td>Sport</td>\n",
       "      <td>21-Jähriger fällt wohl bis Saisonende aus. Wie...</td>\n",
       "      <td>NaN</td>\n",
       "    </tr>\n",
       "    <tr>\n",
       "      <th>1</th>\n",
       "      <td>Kultur</td>\n",
       "      <td>'Erfundene Bilder zu Filmen, die als verloren ...</td>\n",
       "      <td>NaN</td>\n",
       "    </tr>\n",
       "    <tr>\n",
       "      <th>2</th>\n",
       "      <td>Web</td>\n",
       "      <td>Der frischgekürte CEO Sundar Pichai setzt auf ...</td>\n",
       "      <td>NaN</td>\n",
       "    </tr>\n",
       "    <tr>\n",
       "      <th>3</th>\n",
       "      <td>Wirtschaft</td>\n",
       "      <td>Putin: \"Einigung, dass wir Menge auf Niveau vo...</td>\n",
       "      <td>NaN</td>\n",
       "    </tr>\n",
       "    <tr>\n",
       "      <th>4</th>\n",
       "      <td>Inland</td>\n",
       "      <td>Estland sieht den künftigen österreichischen P...</td>\n",
       "      <td>NaN</td>\n",
       "    </tr>\n",
       "  </tbody>\n",
       "</table>\n",
       "</div>"
      ],
      "text/plain": [
       "        label                                               text  tag\n",
       "0       Sport  21-Jähriger fällt wohl bis Saisonende aus. Wie...  NaN\n",
       "1      Kultur  'Erfundene Bilder zu Filmen, die als verloren ...  NaN\n",
       "2         Web  Der frischgekürte CEO Sundar Pichai setzt auf ...  NaN\n",
       "3  Wirtschaft  Putin: \"Einigung, dass wir Menge auf Niveau vo...  NaN\n",
       "4      Inland  Estland sieht den künftigen österreichischen P...  NaN"
      ]
     },
     "execution_count": 18,
     "metadata": {},
     "output_type": "execute_result"
    }
   ],
   "source": [
    "df.head()"
   ]
  },
  {
   "cell_type": "markdown",
   "metadata": {},
   "source": [
    "## Prepare Data\n",
    "\n",
    "- Unified format\n",
    "- remove duplicates\n",
    "- Warning message for unknown items\n",
    "- handle tags"
   ]
  },
  {
   "cell_type": "code",
   "execution_count": 49,
   "metadata": {
    "scrolled": false
   },
   "outputs": [
    {
     "name": "stdout",
     "output_type": "stream",
     "text": [
      "[INFO] **** ITERATION # 0 ****\n",
      "[INFO] Input Length -> 9245\n",
      "[INFO] Label Summary: \n",
      "Web              77\n",
      "Panorama         73\n",
      "International    68\n",
      "Sport            64\n",
      "Wirtschaft       63\n",
      "Inland           47\n",
      "Etat             42\n",
      "Wissenschaft     40\n",
      "Kultur           26\n",
      "Name: label, dtype: int64\n",
      "[INFO] Post Duplicate Length -> 9244\n",
      "\n",
      "[INFO] Estimating complexity using SUPERVISED approach.\n",
      "\t[INFO] Data available for training -> 500\n",
      "\t[INFO] Complexity Estimation Report: \n",
      "               precision    recall  f1-score   support\n",
      "\n",
      "           0       0.57      0.87      0.68        15\n",
      "           1       0.52      0.93      0.67        14\n",
      "           2       0.73      0.62      0.67        13\n",
      "           3       0.80      1.00      0.89        12\n",
      "           4       0.71      0.83      0.77        12\n",
      "           5       1.00      0.33      0.50         9\n",
      "           6       1.00      0.25      0.40         8\n",
      "           7       1.00      0.25      0.40         8\n",
      "           8       1.00      0.20      0.33         5\n",
      "\n",
      "   micro avg       0.67      0.67      0.67        96\n",
      "   macro avg       0.81      0.59      0.59        96\n",
      "weighted avg       0.76      0.67      0.63        96\n",
      "\n",
      "\t[INFO] Complexity Score -> 0.6666666666666666\n",
      "\n",
      "[INFO] Applying model to data\n",
      "[INFO] Storing split: C:/Users/makayser/Desktop/git/uplabel/data/lab/input-it_0-split_1.xlsx\n",
      "Panorama         150\n",
      "Web              126\n",
      "Wirtschaft        75\n",
      "Sport             57\n",
      "International     55\n",
      "Inland            27\n",
      "Etat              13\n",
      "Wissenschaft      10\n",
      "Kultur             4\n",
      "Name: pred, dtype: int64\n",
      "[INFO] Storing split: C:/Users/makayser/Desktop/git/uplabel/data/lab/input-it_0-split_2.xlsx\n",
      "Panorama         152\n",
      "Web              132\n",
      "Wirtschaft        75\n",
      "Sport             69\n",
      "International     50\n",
      "Inland            25\n",
      "Wissenschaft      12\n",
      "Etat               9\n",
      "Kultur             1\n",
      "Name: pred, dtype: int64\n",
      "Wall time: 2min 16s\n"
     ]
    },
    {
     "data": {
      "image/png": "[encoded data removed]",
      "text/plain": [
       "<Figure size 432x288 with 1 Axes>"
      ]
     },
     "metadata": {
      "needs_background": "light"
     },
     "output_type": "display_data"
    }
   ],
   "source": [
    "%%time\n",
    "\n",
    "ul = main.Main('lab', debug_iter_id=0)"
   ]
  },
  {
   "cell_type": "code",
   "execution_count": 50,
   "metadata": {},
   "outputs": [
    {
     "name": "stdout",
     "output_type": "stream",
     "text": [
      "[INFO] **** ITERATION # 1 ****\n",
      "[INFO] Loading splits from iteration 0.\n",
      "[INFO] Input Length -> 10287\n",
      "[INFO] Label Summary: \n",
      "Panorama         375\n",
      "Web              335\n",
      "Wirtschaft       213\n",
      "Sport            190\n",
      "International    173\n",
      "Inland            99\n",
      "Etat              64\n",
      "Wissenschaft      62\n",
      "Kultur            31\n",
      "Name: label, dtype: int64\n",
      "[INFO] Post Duplicate Length -> 9249\n",
      "\t[INFO] Found an empty row during text cleaning.\n",
      "\n",
      "[INFO] Estimating complexity using SUPERVISED approach.\n",
      "\t[INFO] Data available for training -> 1390\n"
     ]
    },
    {
     "name": "stderr",
     "output_type": "stream",
     "text": [
      "C:\\ProgramData\\Anaconda3\\envs\\uplab\\lib\\site-packages\\sklearn\\metrics\\classification.py:1143: UndefinedMetricWarning: Precision and F-score are ill-defined and being set to 0.0 in labels with no predicted samples.\n",
      "  'precision', 'predicted', average, warn_for)\n"
     ]
    },
    {
     "name": "stdout",
     "output_type": "stream",
     "text": [
      "\t[INFO] Complexity Estimation Report: \n",
      "               precision    recall  f1-score   support\n",
      "\n",
      "           0       0.42      1.00      0.59        69\n",
      "           1       0.89      0.84      0.86        61\n",
      "           2       0.93      0.35      0.51        37\n",
      "           3       1.00      0.82      0.90        34\n",
      "           4       1.00      0.19      0.32        31\n",
      "           5       1.00      0.18      0.30        17\n",
      "           6       0.00      0.00      0.00        10\n",
      "           7       0.00      0.00      0.00        10\n",
      "           8       0.00      0.00      0.00         5\n",
      "\n",
      "   micro avg       0.62      0.62      0.62       274\n",
      "   macro avg       0.58      0.38      0.39       274\n",
      "weighted avg       0.73      0.62      0.58       274\n",
      "\n",
      "\t[INFO] Complexity Score -> 0.6204379562043796\n",
      "\n",
      "[INFO] Applying model to data\n",
      "\t[INFO] Found an empty row during text cleaning.\n",
      "[INFO] Storing split: C:/Users/makayser/Desktop/git/uplabel/data/lab/input-it_1-split_1.xlsx\n",
      "Panorama         335\n",
      "Web              159\n",
      "Sport             69\n",
      "Wirtschaft        53\n",
      "International     32\n",
      "Inland             9\n",
      "Etat               2\n",
      "Wissenschaft       2\n",
      "Name: pred, dtype: int64\n",
      "[INFO] Storing split: C:/Users/makayser/Desktop/git/uplabel/data/lab/input-it_1-split_2.xlsx\n",
      "Panorama         350\n",
      "Web              160\n",
      "Sport             71\n",
      "Wirtschaft        48\n",
      "International     36\n",
      "Inland             8\n",
      "Kultur             3\n",
      "Wissenschaft       3\n",
      "Etat               1\n",
      "Name: pred, dtype: int64\n",
      "Wall time: 2min 15s\n"
     ]
    },
    {
     "data": {
      "image/png": "[encoded data removed]",
      "text/plain": [
       "<Figure size 432x288 with 1 Axes>"
      ]
     },
     "metadata": {
      "needs_background": "light"
     },
     "output_type": "display_data"
    }
   ],
   "source": [
    "%%time\n",
    "\n",
    "ul = main.Main('lab', debug_iter_id=1)"
   ]
  },
  {
   "cell_type": "code",
   "execution_count": 11,
   "metadata": {
    "scrolled": false
   },
   "outputs": [],
   "source": [
    "%%time\n",
    "\n",
    "ul = main.Main('tal', debug_iter_id=2)"
   ]
  },
  {
   "cell_type": "markdown",
   "metadata": {},
   "source": [
    "## Estimate Complexity\n",
    "\n",
    "1. Rule based: minimume requirement per category\n",
    "2. Spread: Oversampling (SMOTE) or Undersampling?\n",
    "3. Complexity: preprocessing + supervised (simple TFIDF?)\n",
    "4. Complexity Score: performance * data quantity   \n",
    "-- Higher = better"
   ]
  },
  {
   "cell_type": "code",
   "execution_count": 10,
   "metadata": {},
   "outputs": [
    {
     "name": "stdout",
     "output_type": "stream",
     "text": [
      "[INFO] Not enough examples for label ('documentDate', 5)\n",
      "[INFO] Estimating complexity.\n",
      "[INFO] Data available for training -> 74\n",
      "[INFO] Complexity Estimation Report: \n",
      "               precision    recall  f1-score   support\n",
      "\n",
      "           0       0.80      0.80      0.80         5\n",
      "           1       1.00      0.75      0.86         4\n",
      "           2       0.67      0.67      0.67         3\n",
      "           3       0.00      0.00      0.00         1\n",
      "\n",
      "   micro avg       0.69      0.69      0.69        13\n",
      "   macro avg       0.62      0.55      0.58        13\n",
      "weighted avg       0.77      0.69      0.73        13\n",
      "\n"
     ]
    },
    {
     "data": {
      "text/plain": [
       "0.6923076923076923"
      ]
     },
     "execution_count": 10,
     "metadata": {},
     "output_type": "execute_result"
    },
    {
     "data": {
      "image/png": "[encoded data removed]",
      "text/plain": [
       "<Figure size 432x288 with 1 Axes>"
      ]
     },
     "metadata": {
      "needs_background": "light"
     },
     "output_type": "display_data"
    }
   ],
   "source": [
    "cp.run(df_data, estimate_clusters=False)"
   ]
  },
  {
   "cell_type": "markdown",
   "metadata": {},
   "source": [
    "## Cluster\n",
    "Only applies if complexity calculation not sufficient.\n",
    "\n",
    "1. LDA / K-means"
   ]
  },
  {
   "cell_type": "code",
   "execution_count": null,
   "metadata": {},
   "outputs": [],
   "source": []
  },
  {
   "cell_type": "markdown",
   "metadata": {},
   "source": [
    "## Determine Split\n",
    "Overlap"
   ]
  },
  {
   "cell_type": "code",
   "execution_count": 38,
   "metadata": {},
   "outputs": [
    {
     "data": {
      "text/plain": [
       "(10, 0.27)"
      ]
     },
     "execution_count": 38,
     "metadata": {},
     "output_type": "execute_result"
    }
   ],
   "source": [
    "sp.calculate_split(3806, 0.73, 10)"
   ]
  },
  {
   "cell_type": "code",
   "execution_count": 46,
   "metadata": {},
   "outputs": [],
   "source": [
    "# splits = sp.apply_split(df_all, '../raw.txt', complexity=0.6, labelers=1)"
   ]
  },
  {
   "cell_type": "markdown",
   "metadata": {},
   "source": [
    "## Output Split\n",
    "- Split (x exports)\n",
    "- Include extra columns\n",
    "- Include label columns: scored, label, comment"
   ]
  },
  {
   "cell_type": "code",
   "execution_count": null,
   "metadata": {},
   "outputs": [],
   "source": []
  },
  {
   "cell_type": "markdown",
   "metadata": {},
   "source": [
    "### Output Instructions\n",
    "\n",
    "- Labels:  \n",
    "-- as defined   \n",
    "-- None is 'None'  "
   ]
  },
  {
   "cell_type": "code",
   "execution_count": null,
   "metadata": {},
   "outputs": [],
   "source": []
  }
 ],
 "metadata": {
  "kernelspec": {
   "display_name": "Python (uplabel)",
   "language": "python",
   "name": "uplab"
  },
  "language_info": {
   "codemirror_mode": {
    "name": "ipython",
    "version": 3
   },
   "file_extension": ".py",
   "mimetype": "text/x-python",
   "name": "python",
   "nbconvert_exporter": "python",
   "pygments_lexer": "ipython3",
   "version": "3.6.6"
  }
 },
 "nbformat": 4,
 "nbformat_minor": 2
}
