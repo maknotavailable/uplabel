{
 "cells": [
  {
   "cell_type": "markdown",
   "metadata": {},
   "source": [
    "# Unified UpLabel Pipeline\n",
    "\n",
    "Testing ground for unified labeling pipeline."
   ]
  },
  {
   "cell_type": "code",
   "execution_count": 1,
   "metadata": {},
   "outputs": [],
   "source": [
    "import pandas as pd\n",
    "import configparser\n",
    "import sys\n",
    "\n",
    "sys.path.append('../code')\n",
    "import main\n",
    "import utils as ut\n",
    "import complexity as cp\n",
    "import split as sp"
   ]
  },
  {
   "cell_type": "code",
   "execution_count": 2,
   "metadata": {},
   "outputs": [],
   "source": [
    "%load_ext autoreload\n",
    "%autoreload 2"
   ]
  },
  {
   "cell_type": "code",
   "execution_count": 3,
   "metadata": {},
   "outputs": [
    {
     "data": {
      "text/plain": [
       "['../config.ini']"
      ]
     },
     "execution_count": 3,
     "metadata": {},
     "output_type": "execute_result"
    }
   ],
   "source": [
    "config = configparser.ConfigParser()\n",
    "config.read('../config.ini', encoding='utf-8')"
   ]
  },
  {
   "cell_type": "code",
   "execution_count": 4,
   "metadata": {},
   "outputs": [],
   "source": [
    "data_dir = config['path']['data']"
   ]
  },
  {
   "cell_type": "markdown",
   "metadata": {},
   "source": [
    "## Input \n",
    "Parameters & Upload.\n",
    "- File (Raw Data + expert labelled)\n",
    "- Column names\n",
    "- Extra columns (to be ingored in processing, but output)\n",
    "- Target column\n",
    "- Language\n",
    "- Task Type\n",
    "- N# labelers (0..*)\n",
    "- Quality: strict/easy (strict considers tags)"
   ]
  },
  {
   "cell_type": "code",
   "execution_count": 5,
   "metadata": {},
   "outputs": [
    {
     "data": {
      "text/plain": [
       "Index(['text', 'text_b', 'text_a', 'entity', 'entity_type', 'task', 'label',\n",
       "       'tag', 'comment'],\n",
       "      dtype='object')"
      ]
     },
     "execution_count": 5,
     "metadata": {},
     "output_type": "execute_result"
    }
   ],
   "source": [
    "df = pd.read_csv(data_dir+'raw/raw_v1.txt', sep='\\t', encoding='utf-8')\n",
    "df.columns"
   ]
  },
  {
   "cell_type": "code",
   "execution_count": 6,
   "metadata": {},
   "outputs": [
    {
     "data": {
      "text/html": [
       "<div>\n",
       "<style scoped>\n",
       "    .dataframe tbody tr th:only-of-type {\n",
       "        vertical-align: middle;\n",
       "    }\n",
       "\n",
       "    .dataframe tbody tr th {\n",
       "        vertical-align: top;\n",
       "    }\n",
       "\n",
       "    .dataframe thead th {\n",
       "        text-align: right;\n",
       "    }\n",
       "</style>\n",
       "<table border=\"1\" class=\"dataframe\">\n",
       "  <thead>\n",
       "    <tr style=\"text-align: right;\">\n",
       "      <th></th>\n",
       "      <th>text</th>\n",
       "      <th>text_b</th>\n",
       "      <th>text_a</th>\n",
       "      <th>entity</th>\n",
       "      <th>entity_type</th>\n",
       "      <th>task</th>\n",
       "      <th>label</th>\n",
       "      <th>tag</th>\n",
       "      <th>comment</th>\n",
       "    </tr>\n",
       "  </thead>\n",
       "  <tbody>\n",
       "    <tr>\n",
       "      <th>0</th>\n",
       "      <td>11/01/2019 13: 46 037413006927 DR SCHUBEL &amp; KO...</td>\n",
       "      <td>11/01/2019 13: 46 037413006927 DR SCHUBEL &amp; KO...</td>\n",
       "      <td>Dr. Schubel &amp; Kollegen Rechtsanwalte und Facha...</td>\n",
       "      <td>01/ 01</td>\n",
       "      <td>DateTime</td>\n",
       "      <td>gp</td>\n",
       "      <td>None</td>\n",
       "      <td>NaN</td>\n",
       "      <td>NaN</td>\n",
       "    </tr>\n",
       "    <tr>\n",
       "      <th>1</th>\n",
       "      <td>11/01/2019 13: 46 037413006927 DR SCHUBEL &amp; KO...</td>\n",
       "      <td>0220 0816 81 BIC: BYLADEM)HOF Commerzbank Plav...</td>\n",
       "      <td>Treuhandkonto) I.BAN: DE84 8704 0000 0 493 505...</td>\n",
       "      <td>11.01.2019</td>\n",
       "      <td>DateTime</td>\n",
       "      <td>gp</td>\n",
       "      <td>NaN</td>\n",
       "      <td>NaN</td>\n",
       "      <td>NaN</td>\n",
       "    </tr>\n",
       "    <tr>\n",
       "      <th>2</th>\n",
       "      <td>INGENIEURBURO NEUNKIRCHEN + PARTNER 0 075853 S...</td>\n",
       "      <td>RECHNUNG 1GP3190024 Haftpflicht 07.01.2019 Haf...</td>\n",
       "      <td>Schadendatum: Versicherungsnehmer: Amtl. Kennz...</td>\n",
       "      <td>03.01.2019</td>\n",
       "      <td>DateTime</td>\n",
       "      <td>gp</td>\n",
       "      <td>None</td>\n",
       "      <td>NaN</td>\n",
       "      <td>NaN</td>\n",
       "    </tr>\n",
       "    <tr>\n",
       "      <th>3</th>\n",
       "      <td>11/01/2019 13: 46 037413006927 DR SCHUBEL &amp; KO...</td>\n",
       "      <td>um Bejahung Ihrer Einstandspflicht sowie sofor...</td>\n",
       "      <td>. Unsere Mandantschaft mochte nun nicht mehr z...</td>\n",
       "      <td>25.01.2019</td>\n",
       "      <td>DateTime</td>\n",
       "      <td>gp</td>\n",
       "      <td>NaN</td>\n",
       "      <td>NaN</td>\n",
       "      <td>NaN</td>\n",
       "    </tr>\n",
       "    <tr>\n",
       "      <th>4</th>\n",
       "      <td>11/01/2019 13:58 0821-907692029 RAE FABER&amp;FABE...</td>\n",
       "      <td>FAMILIENRECHT FACHANWALTIN FOR ERBRECHT SARAH ...</td>\n",
       "      <td>02-su STEFANIE HOLME DIPL.-JUR. (UNIV.) Bitte ...</td>\n",
       "      <td>1.01.2019</td>\n",
       "      <td>DateTime</td>\n",
       "      <td>gp</td>\n",
       "      <td>NaN</td>\n",
       "      <td>NaN</td>\n",
       "      <td>NaN</td>\n",
       "    </tr>\n",
       "  </tbody>\n",
       "</table>\n",
       "</div>"
      ],
      "text/plain": [
       "                                                text  \\\n",
       "0  11/01/2019 13: 46 037413006927 DR SCHUBEL & KO...   \n",
       "1  11/01/2019 13: 46 037413006927 DR SCHUBEL & KO...   \n",
       "2  INGENIEURBURO NEUNKIRCHEN + PARTNER 0 075853 S...   \n",
       "3  11/01/2019 13: 46 037413006927 DR SCHUBEL & KO...   \n",
       "4  11/01/2019 13:58 0821-907692029 RAE FABER&FABE...   \n",
       "\n",
       "                                              text_b  \\\n",
       "0  11/01/2019 13: 46 037413006927 DR SCHUBEL & KO...   \n",
       "1  0220 0816 81 BIC: BYLADEM)HOF Commerzbank Plav...   \n",
       "2  RECHNUNG 1GP3190024 Haftpflicht 07.01.2019 Haf...   \n",
       "3  um Bejahung Ihrer Einstandspflicht sowie sofor...   \n",
       "4  FAMILIENRECHT FACHANWALTIN FOR ERBRECHT SARAH ...   \n",
       "\n",
       "                                              text_a      entity entity_type  \\\n",
       "0  Dr. Schubel & Kollegen Rechtsanwalte und Facha...      01/ 01    DateTime   \n",
       "1  Treuhandkonto) I.BAN: DE84 8704 0000 0 493 505...  11.01.2019    DateTime   \n",
       "2  Schadendatum: Versicherungsnehmer: Amtl. Kennz...  03.01.2019    DateTime   \n",
       "3  . Unsere Mandantschaft mochte nun nicht mehr z...  25.01.2019    DateTime   \n",
       "4  02-su STEFANIE HOLME DIPL.-JUR. (UNIV.) Bitte ...   1.01.2019    DateTime   \n",
       "\n",
       "  task label  tag  comment  \n",
       "0   gp  None  NaN      NaN  \n",
       "1   gp   NaN  NaN      NaN  \n",
       "2   gp  None  NaN      NaN  \n",
       "3   gp   NaN  NaN      NaN  \n",
       "4   gp   NaN  NaN      NaN  "
      ]
     },
     "execution_count": 6,
     "metadata": {},
     "output_type": "execute_result"
    }
   ],
   "source": [
    "df.head()"
   ]
  },
  {
   "cell_type": "markdown",
   "metadata": {},
   "source": [
    "## Prepare Data\n",
    "\n",
    "- Unified format\n",
    "- remove duplicates\n",
    "- Warning message for unknown items\n",
    "- handle tags"
   ]
  },
  {
   "cell_type": "code",
   "execution_count": 8,
   "metadata": {},
   "outputs": [
    {
     "name": "stdout",
     "output_type": "stream",
     "text": [
      "[INFO] Iteration # 2\n",
      "[INFO] Input Length -> 7766\n",
      "[INFO] Label Counts: \n",
      "gracePeriodDate    47\n",
      "None               28\n",
      "damageDate         19\n",
      "documentDate        7\n",
      "Name: label, dtype: int64\n",
      "[INFO] Post Duplicate Length -> 3806\n",
      "[INFO] Not enough examples for label ('documentDate', 5)\n",
      "\n",
      "[INFO] Estimating complexity:\n",
      "\t[INFO] Data available for training -> 74\n"
     ]
    },
    {
     "name": "stderr",
     "output_type": "stream",
     "text": [
      "C:\\ProgramData\\Anaconda3\\envs\\uplab\\lib\\site-packages\\sklearn\\metrics\\classification.py:1143: UndefinedMetricWarning: Precision and F-score are ill-defined and being set to 0.0 in labels with no predicted samples.\n",
      "  'precision', 'predicted', average, warn_for)\n"
     ]
    },
    {
     "name": "stdout",
     "output_type": "stream",
     "text": [
      "\t[INFO] Complexity Estimation Report: \n",
      "               precision    recall  f1-score   support\n",
      "\n",
      "           0       0.71      1.00      0.83         5\n",
      "           1       0.80      1.00      0.89         4\n",
      "           2       1.00      0.33      0.50         3\n",
      "           3       0.00      0.00      0.00         1\n",
      "\n",
      "   micro avg       0.77      0.77      0.77        13\n",
      "   macro avg       0.63      0.58      0.56        13\n",
      "weighted avg       0.75      0.77      0.71        13\n",
      "\n",
      "\t[INFO] Complexity Score -> 0.7692307692307693\n",
      "\n",
      "[INFO] Applying model to data\n",
      "\t[INFO] Found an empty row during text cleaning.\n"
     ]
    },
    {
     "name": "stderr",
     "output_type": "stream",
     "text": [
      "C:\\ProgramData\\Anaconda3\\envs\\uplab\\lib\\site-packages\\sklearn\\model_selection\\_split.py:652: Warning: The least populated class in y has only 1 members, which is too few. The minimum number of members in any class cannot be less than n_splits=9.\n",
      "  % (min_groups, self.n_splits)), Warning)\n"
     ]
    },
    {
     "name": "stdout",
     "output_type": "stream",
     "text": [
      "[INFO] Storing split: C:/Users/makayser/Desktop/ul_label/tal/raw_v1_split1.xlsx\n",
      "gracePeriodDate    115\n",
      "None                57\n",
      "damageDate           3\n",
      "documentDate         1\n",
      "Name: pred, dtype: int64\n"
     ]
    },
    {
     "name": "stderr",
     "output_type": "stream",
     "text": [
      "C:\\ProgramData\\Anaconda3\\envs\\uplab\\lib\\site-packages\\pandas\\core\\indexing.py:362: SettingWithCopyWarning: \n",
      "A value is trying to be set on a copy of a slice from a DataFrame.\n",
      "Try using .loc[row_indexer,col_indexer] = value instead\n",
      "\n",
      "See the caveats in the documentation: http://pandas.pydata.org/pandas-docs/stable/indexing.html#indexing-view-versus-copy\n",
      "  self.obj[key] = _infer_fill_value(value)\n",
      "C:\\ProgramData\\Anaconda3\\envs\\uplab\\lib\\site-packages\\pandas\\core\\indexing.py:543: SettingWithCopyWarning: \n",
      "A value is trying to be set on a copy of a slice from a DataFrame.\n",
      "Try using .loc[row_indexer,col_indexer] = value instead\n",
      "\n",
      "See the caveats in the documentation: http://pandas.pydata.org/pandas-docs/stable/indexing.html#indexing-view-versus-copy\n",
      "  self.obj[item] = s\n"
     ]
    },
    {
     "name": "stdout",
     "output_type": "stream",
     "text": [
      "[INFO] Storing split: C:/Users/makayser/Desktop/ul_label/tal/raw_v1_split2.xlsx\n",
      "gracePeriodDate    118\n",
      "None                52\n",
      "damageDate           3\n",
      "documentDate         1\n",
      "Name: pred, dtype: int64\n",
      "[INFO] Storing split: C:/Users/makayser/Desktop/ul_label/tal/raw_v1_split3.xlsx\n",
      "gracePeriodDate    116\n",
      "None                52\n",
      "damageDate           3\n",
      "documentDate         1\n",
      "Name: pred, dtype: int64\n",
      "Wall time: 3.53 s\n"
     ]
    },
    {
     "data": {
      "image/png": "[encoded data removed]",
      "text/plain": [
       "<Figure size 432x288 with 1 Axes>"
      ]
     },
     "metadata": {
      "needs_background": "light"
     },
     "output_type": "display_data"
    }
   ],
   "source": [
    "%%time\n",
    "\n",
    "ul = main.Main('tal')"
   ]
  },
  {
   "cell_type": "markdown",
   "metadata": {},
   "source": [
    "## Estimate Complexity\n",
    "\n",
    "1. Rule based: minimume requirement per category\n",
    "2. Spread: Oversampling (SMOTE) or Undersampling?\n",
    "3. Complexity: preprocessing + supervised (simple TFIDF?)\n",
    "4. Complexity Score: performance * data quantity   \n",
    "-- Higher = better"
   ]
  },
  {
   "cell_type": "code",
   "execution_count": 10,
   "metadata": {},
   "outputs": [
    {
     "name": "stdout",
     "output_type": "stream",
     "text": [
      "[INFO] Not enough examples for label ('documentDate', 5)\n",
      "[INFO] Estimating complexity.\n",
      "[INFO] Data available for training -> 74\n",
      "[INFO] Complexity Estimation Report: \n",
      "               precision    recall  f1-score   support\n",
      "\n",
      "           0       0.80      0.80      0.80         5\n",
      "           1       1.00      0.75      0.86         4\n",
      "           2       0.67      0.67      0.67         3\n",
      "           3       0.00      0.00      0.00         1\n",
      "\n",
      "   micro avg       0.69      0.69      0.69        13\n",
      "   macro avg       0.62      0.55      0.58        13\n",
      "weighted avg       0.77      0.69      0.73        13\n",
      "\n"
     ]
    },
    {
     "data": {
      "text/plain": [
       "0.6923076923076923"
      ]
     },
     "execution_count": 10,
     "metadata": {},
     "output_type": "execute_result"
    },
    {
     "data": {
      "image/png": "[encoded data removed]",
      "text/plain": [
       "<Figure size 432x288 with 1 Axes>"
      ]
     },
     "metadata": {
      "needs_background": "light"
     },
     "output_type": "display_data"
    }
   ],
   "source": [
    "cp.run(df_data, estimate_clusters=False)"
   ]
  },
  {
   "cell_type": "markdown",
   "metadata": {},
   "source": [
    "## Cluster\n",
    "Only applies if complexity calculation not sufficient.\n",
    "\n",
    "1. LDA / K-means"
   ]
  },
  {
   "cell_type": "code",
   "execution_count": null,
   "metadata": {},
   "outputs": [],
   "source": []
  },
  {
   "cell_type": "markdown",
   "metadata": {},
   "source": [
    "## Determine Split\n",
    "Overlap"
   ]
  },
  {
   "cell_type": "code",
   "execution_count": 38,
   "metadata": {},
   "outputs": [
    {
     "data": {
      "text/plain": [
       "(10, 0.27)"
      ]
     },
     "execution_count": 38,
     "metadata": {},
     "output_type": "execute_result"
    }
   ],
   "source": [
    "sp.calculate_split(3806, 0.73, 10)"
   ]
  },
  {
   "cell_type": "code",
   "execution_count": 46,
   "metadata": {},
   "outputs": [],
   "source": [
    "# splits = sp.apply_split(df_all, '../raw.txt', complexity=0.6, labelers=1)"
   ]
  },
  {
   "cell_type": "markdown",
   "metadata": {},
   "source": [
    "## Output Split\n",
    "- Split (x exports)\n",
    "- Include extra columns\n",
    "- Include label columns: scored, label, comment"
   ]
  },
  {
   "cell_type": "code",
   "execution_count": null,
   "metadata": {},
   "outputs": [],
   "source": []
  },
  {
   "cell_type": "markdown",
   "metadata": {},
   "source": [
    "### Output Instructions\n",
    "\n",
    "- Labels:  \n",
    "-- as defined   \n",
    "-- None is 'None'  "
   ]
  },
  {
   "cell_type": "code",
   "execution_count": null,
   "metadata": {},
   "outputs": [],
   "source": []
  }
 ],
 "metadata": {
  "kernelspec": {
   "display_name": "Python (uplabel)",
   "language": "python",
   "name": "uplab"
  },
  "language_info": {
   "codemirror_mode": {
    "name": "ipython",
    "version": 3
   },
   "file_extension": ".py",
   "mimetype": "text/x-python",
   "name": "python",
   "nbconvert_exporter": "python",
   "pygments_lexer": "ipython3",
   "version": "3.6.6"
  }
 },
 "nbformat": 4,
 "nbformat_minor": 2
}
