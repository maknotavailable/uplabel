{
 "cells": [
  {
   "cell_type": "markdown",
   "metadata": {},
   "source": [
    "# Unified UpLabel Pipeline\n",
    "\n",
    "Testing ground for unified labeling pipeline."
   ]
  },
  {
   "cell_type": "code",
   "execution_count": 2,
   "metadata": {},
   "outputs": [],
   "source": [
    "import pandas as pd\n",
    "import configparser\n",
    "import sys\n",
    "\n",
    "sys.path.append('../code')\n",
    "import main\n",
    "import utils as ut\n",
    "import complexity as cp\n",
    "import split as sp"
   ]
  },
  {
   "cell_type": "code",
   "execution_count": 3,
   "metadata": {},
   "outputs": [],
   "source": [
    "%load_ext autoreload\n",
    "%autoreload 2"
   ]
  },
  {
   "cell_type": "code",
   "execution_count": 4,
   "metadata": {},
   "outputs": [
    {
     "data": {
      "text/plain": [
       "['../config.ini']"
      ]
     },
     "execution_count": 4,
     "metadata": {},
     "output_type": "execute_result"
    }
   ],
   "source": [
    "config = configparser.ConfigParser()\n",
    "config.read('../config.ini', encoding='utf-8')"
   ]
  },
  {
   "cell_type": "code",
   "execution_count": 5,
   "metadata": {},
   "outputs": [],
   "source": [
    "data_dir = config['path']['data']"
   ]
  },
  {
   "cell_type": "markdown",
   "metadata": {},
   "source": [
    "## Input \n",
    "Parameters & Upload.\n",
    "- File (Raw Data + expert labelled)\n",
    "- Column names\n",
    "- Extra columns (to be ingored in processing, but output)\n",
    "- Target column\n",
    "- Language\n",
    "- Task Type\n",
    "- N# labelers (0..*)\n",
    "- Quality: strict/easy (strict considers tags)"
   ]
  },
  {
   "cell_type": "code",
   "execution_count": 17,
   "metadata": {},
   "outputs": [
    {
     "data": {
      "text/plain": [
       "Index(['label', 'text', 'tag'], dtype='object')"
      ]
     },
     "execution_count": 17,
     "metadata": {},
     "output_type": "execute_result"
    }
   ],
   "source": [
    "df = pd.read_csv(data_dir+'lab/input.txt', sep='\\t', encoding='utf-8')\n",
    "df.columns"
   ]
  },
  {
   "cell_type": "code",
   "execution_count": 18,
   "metadata": {},
   "outputs": [
    {
     "data": {
      "text/html": [
       "<div>\n",
       "<style scoped>\n",
       "    .dataframe tbody tr th:only-of-type {\n",
       "        vertical-align: middle;\n",
       "    }\n",
       "\n",
       "    .dataframe tbody tr th {\n",
       "        vertical-align: top;\n",
       "    }\n",
       "\n",
       "    .dataframe thead th {\n",
       "        text-align: right;\n",
       "    }\n",
       "</style>\n",
       "<table border=\"1\" class=\"dataframe\">\n",
       "  <thead>\n",
       "    <tr style=\"text-align: right;\">\n",
       "      <th></th>\n",
       "      <th>label</th>\n",
       "      <th>text</th>\n",
       "      <th>tag</th>\n",
       "    </tr>\n",
       "  </thead>\n",
       "  <tbody>\n",
       "    <tr>\n",
       "      <th>0</th>\n",
       "      <td>Sport</td>\n",
       "      <td>21-Jähriger fällt wohl bis Saisonende aus. Wie...</td>\n",
       "      <td>NaN</td>\n",
       "    </tr>\n",
       "    <tr>\n",
       "      <th>1</th>\n",
       "      <td>Kultur</td>\n",
       "      <td>'Erfundene Bilder zu Filmen, die als verloren ...</td>\n",
       "      <td>NaN</td>\n",
       "    </tr>\n",
       "    <tr>\n",
       "      <th>2</th>\n",
       "      <td>Web</td>\n",
       "      <td>Der frischgekürte CEO Sundar Pichai setzt auf ...</td>\n",
       "      <td>NaN</td>\n",
       "    </tr>\n",
       "    <tr>\n",
       "      <th>3</th>\n",
       "      <td>Wirtschaft</td>\n",
       "      <td>Putin: \"Einigung, dass wir Menge auf Niveau vo...</td>\n",
       "      <td>NaN</td>\n",
       "    </tr>\n",
       "    <tr>\n",
       "      <th>4</th>\n",
       "      <td>Inland</td>\n",
       "      <td>Estland sieht den künftigen österreichischen P...</td>\n",
       "      <td>NaN</td>\n",
       "    </tr>\n",
       "  </tbody>\n",
       "</table>\n",
       "</div>"
      ],
      "text/plain": [
       "        label                                               text  tag\n",
       "0       Sport  21-Jähriger fällt wohl bis Saisonende aus. Wie...  NaN\n",
       "1      Kultur  'Erfundene Bilder zu Filmen, die als verloren ...  NaN\n",
       "2         Web  Der frischgekürte CEO Sundar Pichai setzt auf ...  NaN\n",
       "3  Wirtschaft  Putin: \"Einigung, dass wir Menge auf Niveau vo...  NaN\n",
       "4      Inland  Estland sieht den künftigen österreichischen P...  NaN"
      ]
     },
     "execution_count": 18,
     "metadata": {},
     "output_type": "execute_result"
    }
   ],
   "source": [
    "df.head()"
   ]
  },
  {
   "cell_type": "markdown",
   "metadata": {},
   "source": [
    "## Prepare Data\n",
    "\n",
    "- Unified format\n",
    "- remove duplicates\n",
    "- Warning message for unknown items\n",
    "- handle tags"
   ]
  },
  {
   "cell_type": "code",
   "execution_count": 41,
   "metadata": {
    "scrolled": false
   },
   "outputs": [
    {
     "name": "stdout",
     "output_type": "stream",
     "text": [
      "[INFO] **** ITERATION # 0 ****\n",
      "[INFO] Input Length -> 7766\n",
      "[INFO] Label Summary: \n",
      "gracePeriodDate    47\n",
      "None               28\n",
      "damageDate         19\n",
      "documentDate        7\n",
      "Name: label, dtype: int64\n",
      "[INFO] Post Duplicate Length -> 3806\n",
      "[INFO] Not enough examples for label ('documentDate', 5)\n",
      "\t[INFO] Found an empty row during text cleaning.\n",
      "[INFO] Estimating complexity using UNSUPERVISED approach.\n",
      "\t[INFO] Complexity Score -> 0.5043556756035479\n",
      "\n",
      "[INFO] Applying model to data\n",
      "\t[INFO] Found an empty row during text cleaning.\n",
      "0     3\n",
      "1     2\n",
      "5     4\n",
      "9     1\n",
      "44    0\n",
      "Name: pred_id, dtype: int32\n",
      "[INFO] Storing split: C:/Users/makayser/Desktop/ul_local/tal/input-it_0-split_1.xlsx\n",
      "damageDate         216\n",
      "gracePeriodDate    185\n",
      "documentDate        44\n",
      "None                40\n",
      "Name: pred, dtype: int64\n",
      "[INFO] Storing split: C:/Users/makayser/Desktop/ul_local/tal/input-it_0-split_2.xlsx\n",
      "damageDate         201\n",
      "gracePeriodDate    184\n",
      "documentDate        44\n",
      "None                27\n",
      "Name: pred, dtype: int64\n",
      "Wall time: 5.38 s\n"
     ]
    }
   ],
   "source": [
    "%%time\n",
    "\n",
    "ul = main.Main('tal', debug_iter_id=0)"
   ]
  },
  {
   "cell_type": "code",
   "execution_count": 48,
   "metadata": {},
   "outputs": [],
   "source": [
    "%%time\n",
    "\n",
    "ul = main.Main('tal', debug_iter_id=1)"
   ]
  },
  {
   "cell_type": "code",
   "execution_count": 11,
   "metadata": {
    "scrolled": false
   },
   "outputs": [],
   "source": [
    "%%time\n",
    "\n",
    "ul = main.Main('tal', debug_iter_id=2)"
   ]
  },
  {
   "cell_type": "markdown",
   "metadata": {},
   "source": [
    "## Estimate Complexity\n",
    "\n",
    "1. Rule based: minimume requirement per category\n",
    "2. Spread: Oversampling (SMOTE) or Undersampling?\n",
    "3. Complexity: preprocessing + supervised (simple TFIDF?)\n",
    "4. Complexity Score: performance * data quantity   \n",
    "-- Higher = better"
   ]
  },
  {
   "cell_type": "code",
   "execution_count": 10,
   "metadata": {},
   "outputs": [
    {
     "name": "stdout",
     "output_type": "stream",
     "text": [
      "[INFO] Not enough examples for label ('documentDate', 5)\n",
      "[INFO] Estimating complexity.\n",
      "[INFO] Data available for training -> 74\n",
      "[INFO] Complexity Estimation Report: \n",
      "               precision    recall  f1-score   support\n",
      "\n",
      "           0       0.80      0.80      0.80         5\n",
      "           1       1.00      0.75      0.86         4\n",
      "           2       0.67      0.67      0.67         3\n",
      "           3       0.00      0.00      0.00         1\n",
      "\n",
      "   micro avg       0.69      0.69      0.69        13\n",
      "   macro avg       0.62      0.55      0.58        13\n",
      "weighted avg       0.77      0.69      0.73        13\n",
      "\n"
     ]
    },
    {
     "data": {
      "text/plain": [
       "0.6923076923076923"
      ]
     },
     "execution_count": 10,
     "metadata": {},
     "output_type": "execute_result"
    },
    {
     "data": {
      "image/png": "[encoded data removed]",
      "text/plain": [
       "<Figure size 432x288 with 1 Axes>"
      ]
     },
     "metadata": {
      "needs_background": "light"
     },
     "output_type": "display_data"
    }
   ],
   "source": [
    "cp.run(df_data, estimate_clusters=False)"
   ]
  },
  {
   "cell_type": "markdown",
   "metadata": {},
   "source": [
    "## Cluster\n",
    "Only applies if complexity calculation not sufficient.\n",
    "\n",
    "1. LDA / K-means"
   ]
  },
  {
   "cell_type": "code",
   "execution_count": null,
   "metadata": {},
   "outputs": [],
   "source": []
  },
  {
   "cell_type": "markdown",
   "metadata": {},
   "source": [
    "## Determine Split\n",
    "Overlap"
   ]
  },
  {
   "cell_type": "code",
   "execution_count": 38,
   "metadata": {},
   "outputs": [
    {
     "data": {
      "text/plain": [
       "(10, 0.27)"
      ]
     },
     "execution_count": 38,
     "metadata": {},
     "output_type": "execute_result"
    }
   ],
   "source": [
    "sp.calculate_split(3806, 0.73, 10)"
   ]
  },
  {
   "cell_type": "code",
   "execution_count": 46,
   "metadata": {},
   "outputs": [],
   "source": [
    "# splits = sp.apply_split(df_all, '../raw.txt', complexity=0.6, labelers=1)"
   ]
  },
  {
   "cell_type": "markdown",
   "metadata": {},
   "source": [
    "## Output Split\n",
    "- Split (x exports)\n",
    "- Include extra columns\n",
    "- Include label columns: scored, label, comment"
   ]
  },
  {
   "cell_type": "code",
   "execution_count": null,
   "metadata": {},
   "outputs": [],
   "source": []
  },
  {
   "cell_type": "markdown",
   "metadata": {},
   "source": [
    "### Output Instructions\n",
    "\n",
    "- Labels:  \n",
    "-- as defined   \n",
    "-- None is 'None'  "
   ]
  },
  {
   "cell_type": "code",
   "execution_count": null,
   "metadata": {},
   "outputs": [],
   "source": []
  }
 ],
 "metadata": {
  "kernelspec": {
   "display_name": "Python (uplabel)",
   "language": "python",
   "name": "uplab"
  },
  "language_info": {
   "codemirror_mode": {
    "name": "ipython",
    "version": 3
   },
   "file_extension": ".py",
   "mimetype": "text/x-python",
   "name": "python",
   "nbconvert_exporter": "python",
   "pygments_lexer": "ipython3",
   "version": "3.6.6"
  }
 },
 "nbformat": 4,
 "nbformat_minor": 2
}
