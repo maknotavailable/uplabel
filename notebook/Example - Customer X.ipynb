{
 "cells": [
  {
   "cell_type": "markdown",
   "metadata": {},
   "source": [
    "# Customer Example\n",
    "\n",
    "Email classification problem.\n",
    "- 100 labels provided, for 5 classes\n",
    "- 20k (low quality)/unlabeled data "
   ]
  },
  {
   "cell_type": "code",
   "execution_count": 10,
   "metadata": {},
   "outputs": [],
   "source": [
    "import warnings\n",
    "warnings.filterwarnings('ignore')\n",
    "import sys\n",
    "sys.path.append('../code')\n",
    "import main"
   ]
  },
  {
   "cell_type": "code",
   "execution_count": 11,
   "metadata": {},
   "outputs": [
    {
     "name": "stdout",
     "output_type": "stream",
     "text": [
      "The autoreload extension is already loaded. To reload it, use:\n",
      "  %reload_ext autoreload\n"
     ]
    }
   ],
   "source": [
    "%load_ext autoreload\n",
    "%autoreload 2"
   ]
  },
  {
   "cell_type": "markdown",
   "metadata": {},
   "source": [
    "### Iteration #0\n",
    "Using the ground truth provided by the customer, we create a first split with quality overlaps."
   ]
  },
  {
   "cell_type": "code",
   "execution_count": 12,
   "metadata": {},
   "outputs": [
    {
     "name": "stdout",
     "output_type": "stream",
     "text": [
      "Starting UpLabel >>>>\tProject EX1\n",
      "####################################\n",
      "**** \tITERATION # 0 \t\t****\n",
      "####################################\n",
      "\n",
      "[INFO] Input Length -> 14910\n",
      "[INFO] Label Summary: \n",
      "vertragspartner         29\n",
      "rechnungsanschriften    21\n",
      "bankdaten               20\n",
      "namen                   18\n",
      "kündigung               12\n",
      "Name: label, dtype: int64\n",
      "[INFO] Post Duplicate/Missing Length -> 14458\n",
      "\n",
      "[INFO] Estimating complexity using SUPERVISED approach.\n",
      "\t[INFO] Data available for training -> 100\n",
      "\t[INFO] Complexity Estimation Report: \n",
      "               precision    recall  f1-score   support\n",
      "\n",
      "           0       0.60      0.60      0.60         5\n",
      "           1       1.00      1.00      1.00         4\n",
      "           2       0.75      0.75      0.75         4\n",
      "           3       0.33      0.33      0.33         3\n",
      "           4       1.00      1.00      1.00         2\n",
      "\n",
      "   micro avg       0.72      0.72      0.72        18\n",
      "   macro avg       0.74      0.74      0.74        18\n",
      "weighted avg       0.72      0.72      0.72        18\n",
      "\n",
      "\t[INFO] Complexity Score -> 0.722\n",
      "\t[INFO] Applying model to data\n",
      "\n",
      "[INFO] Applying split \n",
      "\t[INFO] Number of splits -> 3 \n",
      "\t[INFO] Sample Fraction -> 6.2249%\n",
      "\t[INFO] Quality Size -> 10\n",
      "\t[INFO] Overlap Size -> 30\n",
      "[INFO] Created split: C:/Users/makayser/Desktop/ul_local/ex1/input-it_0-split_1.xlsx\n",
      "vertragspartner         231\n",
      "kündigung               138\n",
      "namen                   106\n",
      "bankdaten                79\n",
      "rechnungsanschriften     65\n",
      "Name: label, dtype: int64\n",
      "[INFO] Created split: C:/Users/makayser/Desktop/ul_local/ex1/input-it_0-split_2.xlsx\n",
      "vertragspartner         231\n",
      "kündigung               138\n",
      "namen                   107\n",
      "bankdaten                79\n",
      "rechnungsanschriften     65\n",
      "Name: label, dtype: int64\n",
      "[INFO] Created split: C:/Users/makayser/Desktop/ul_local/ex1/input-it_0-split_3.xlsx\n",
      "vertragspartner         231\n",
      "kündigung               138\n",
      "namen                   107\n",
      "bankdaten                80\n",
      "rechnungsanschriften     65\n",
      "Name: label, dtype: int64\n",
      "Wall time: 1min 21s\n"
     ]
    }
   ],
   "source": [
    "%%time\n",
    "\n",
    "main.Main('ex1', debug_iter_id=0)"
   ]
  },
  {
   "cell_type": "markdown",
   "metadata": {},
   "source": [
    "### Iteration #1\n",
    "This is the first iteration where we load newly labelled data. The complexity score should increase, meaning that the task is easier to deal with as more labels were provided."
   ]
  },
  {
   "cell_type": "code",
   "execution_count": 13,
   "metadata": {},
   "outputs": [
    {
     "name": "stdout",
     "output_type": "stream",
     "text": [
      "Starting UpLabel >>>>\tProject EX1\n",
      "####################################\n",
      "**** \tITERATION # 1 \t\t****\n",
      "####################################\n",
      "\n",
      "[INFO] Loading splits from iteration 0.\n",
      "\t[INFO] Calculating labeler score\n",
      "\t[INFO] Labeler 1 Score -> 0.49\n",
      "\t[INFO] Labeler 2 Score -> 0.49\n",
      "\t[INFO] Labeler 3 Score -> 0.5\n",
      "[INFO] Input Length -> 14460\n",
      "[INFO] Label Summary: \n",
      "bankdaten               541\n",
      "rechnungsanschriften     83\n",
      "vertragspartner          36\n",
      "namen                    25\n",
      "kündigung                15\n",
      "Name: label, dtype: int64\n",
      "[INFO] Post Duplicate/Missing Length -> 14459\n",
      "\n",
      "[INFO] Estimating complexity using SUPERVISED approach.\n",
      "\t[INFO] Data available for training -> 700\n",
      "\t[INFO] Complexity Estimation Report: \n",
      "               precision    recall  f1-score   support\n",
      "\n",
      "           0       0.87      0.94      0.91       108\n",
      "           1       0.55      0.38      0.44        16\n",
      "           2       0.60      0.43      0.50         7\n",
      "           3       0.67      0.40      0.50         5\n",
      "           4       0.67      0.67      0.67         3\n",
      "\n",
      "   micro avg       0.83      0.83      0.83       139\n",
      "   macro avg       0.67      0.56      0.60       139\n",
      "weighted avg       0.81      0.83      0.81       139\n",
      "\n",
      "\t[INFO] Complexity Score -> 0.813\n",
      "\t[INFO] Applying model to data\n",
      "\n",
      "[INFO] Applying split \n",
      "\t[INFO] Number of splits -> 3 \n",
      "\t[INFO] Sample Fraction -> 6.2245%\n",
      "\t[INFO] Quality Size -> 70\n",
      "\t[INFO] Overlap Size -> 30\n",
      "[INFO] Created split: C:/Users/makayser/Desktop/ul_local/ex1/input-it_1-split_1.xlsx\n",
      "bankdaten               294\n",
      "rechnungsanschriften    122\n",
      "kündigung               105\n",
      "vertragspartner          72\n",
      "namen                    45\n",
      "Name: label, dtype: int64\n",
      "[INFO] Created split: C:/Users/makayser/Desktop/ul_local/ex1/input-it_1-split_2.xlsx\n",
      "bankdaten               295\n",
      "rechnungsanschriften    122\n",
      "kündigung               105\n",
      "vertragspartner          73\n",
      "namen                    46\n",
      "Name: label, dtype: int64\n",
      "[INFO] Created split: C:/Users/makayser/Desktop/ul_local/ex1/input-it_1-split_3.xlsx\n",
      "bankdaten               295\n",
      "rechnungsanschriften    122\n",
      "kündigung               105\n",
      "vertragspartner          73\n",
      "namen                    46\n",
      "Name: label, dtype: int64\n",
      "Wall time: 1min 13s\n"
     ]
    }
   ],
   "source": [
    "%%time\n",
    "\n",
    "ul = main.Main('ex1', debug_iter_id=1)"
   ]
  },
  {
   "cell_type": "markdown",
   "metadata": {},
   "source": [
    "### Iteration #2\n",
    "This iteration shows us that the results are actually degrading. This means there must be a bias in the data that is being given out for labeling. Once example could be that underprepresented groups do not get sufficient labels, as can be seen by the category 'namen'."
   ]
  },
  {
   "cell_type": "code",
   "execution_count": 14,
   "metadata": {
    "scrolled": false
   },
   "outputs": [
    {
     "name": "stdout",
     "output_type": "stream",
     "text": [
      "Starting UpLabel >>>>\tProject EX1\n",
      "####################################\n",
      "**** \tITERATION # 2 \t\t****\n",
      "####################################\n",
      "\n",
      "[INFO] Loading splits from iteration 1.\n",
      "\t[INFO] Calculating labeler score\n",
      "\t[INFO] Labeler 1 Score -> 0.89\n",
      "\t[INFO] Labeler 2 Score -> 0.9\n",
      "\t[INFO] Labeler 3 Score -> 0.9\n",
      "[INFO] Input Length -> 14469\n",
      "[INFO] Label Summary: \n",
      "bankdaten               895\n",
      "rechnungsanschriften    267\n",
      "kündigung                64\n",
      "vertragspartner          49\n",
      "namen                    25\n",
      "Name: label, dtype: int64\n",
      "[INFO] Post Duplicate/Missing Length -> 14468\n",
      "\n",
      "[INFO] Estimating complexity using SUPERVISED approach.\n",
      "\t[INFO] Data available for training -> 1299\n",
      "\t[INFO] Complexity Estimation Report: \n",
      "               precision    recall  f1-score   support\n",
      "\n",
      "           0       0.77      0.85      0.81       179\n",
      "           1       0.48      0.45      0.47        53\n",
      "           2       0.83      0.42      0.56        12\n",
      "           3       0.25      0.11      0.15         9\n",
      "           4       0.00      0.00      0.00         5\n",
      "\n",
      "   micro avg       0.71      0.71      0.71       258\n",
      "   macro avg       0.47      0.37      0.40       258\n",
      "weighted avg       0.68      0.71      0.69       258\n",
      "\n",
      "\t[INFO] Complexity Score -> 0.686\n",
      "\t[INFO] Applying model to data\n",
      "\n",
      "[INFO] Applying split \n",
      "\t[INFO] Number of splits -> 3 \n",
      "\t[INFO] Sample Fraction -> 6.2206%\n",
      "\t[INFO] Quality Size -> 129\n",
      "\t[INFO] Overlap Size -> 30\n",
      "[INFO] Created split: C:/Users/makayser/Desktop/ul_local/ex1/input-it_2-split_1.xlsx\n",
      "bankdaten               354\n",
      "rechnungsanschriften    243\n",
      "kündigung                19\n",
      "vertragspartner          19\n",
      "namen                     3\n",
      "Name: label, dtype: int64\n",
      "[INFO] Created split: C:/Users/makayser/Desktop/ul_local/ex1/input-it_2-split_2.xlsx\n",
      "bankdaten               354\n",
      "rechnungsanschriften    243\n",
      "kündigung                20\n",
      "vertragspartner          20\n",
      "namen                     3\n",
      "Name: label, dtype: int64\n",
      "[INFO] Created split: C:/Users/makayser/Desktop/ul_local/ex1/input-it_2-split_3.xlsx\n",
      "bankdaten               355\n",
      "rechnungsanschriften    243\n",
      "kündigung                20\n",
      "vertragspartner          20\n",
      "namen                     4\n",
      "Name: label, dtype: int64\n",
      "Wall time: 1min 15s\n"
     ]
    }
   ],
   "source": [
    "%%time\n",
    "\n",
    "ul = main.Main('ex1', debug_iter_id=2)"
   ]
  },
  {
   "cell_type": "code",
   "execution_count": null,
   "metadata": {},
   "outputs": [],
   "source": []
  }
 ],
 "metadata": {
  "kernelspec": {
   "display_name": "Python (uplabel)",
   "language": "python",
   "name": "uplab"
  },
  "language_info": {
   "codemirror_mode": {
    "name": "ipython",
    "version": 3
   },
   "file_extension": ".py",
   "mimetype": "text/x-python",
   "name": "python",
   "nbconvert_exporter": "python",
   "pygments_lexer": "ipython3",
   "version": "3.6.6"
  }
 },
 "nbformat": 4,
 "nbformat_minor": 2
}
