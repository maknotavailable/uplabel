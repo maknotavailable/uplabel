{
 "cells": [
  {
   "cell_type": "markdown",
   "metadata": {},
   "source": [
    "# Clustering for UpLabel"
   ]
  },
  {
   "cell_type": "code",
   "execution_count": 39,
   "metadata": {},
   "outputs": [],
   "source": [
    "from sklearn.decomposition import TruncatedSVD\n",
    "from sklearn.feature_extraction.text import TfidfVectorizer\n",
    "from sklearn.feature_extraction.text import TfidfTransformer\n",
    "from sklearn.pipeline import make_pipeline, Pipeline\n",
    "from sklearn.preprocessing import Normalizer\n",
    "from sklearn.metrics import confusion_matrix, classification_report, silhouette_score\n",
    "from sklearn import metrics\n",
    "from sklearn.cluster import KMeans\n",
    "import numpy as np\n",
    "import pandas as pd\n",
    "from nltk.corpus import stopwords"
   ]
  },
  {
   "cell_type": "code",
   "execution_count": 40,
   "metadata": {},
   "outputs": [
    {
     "data": {
      "text/html": [
       "<div>\n",
       "<style scoped>\n",
       "    .dataframe tbody tr th:only-of-type {\n",
       "        vertical-align: middle;\n",
       "    }\n",
       "\n",
       "    .dataframe tbody tr th {\n",
       "        vertical-align: top;\n",
       "    }\n",
       "\n",
       "    .dataframe thead th {\n",
       "        text-align: right;\n",
       "    }\n",
       "</style>\n",
       "<table border=\"1\" class=\"dataframe\">\n",
       "  <thead>\n",
       "    <tr style=\"text-align: right;\">\n",
       "      <th></th>\n",
       "      <th>label</th>\n",
       "      <th>text</th>\n",
       "      <th>tag</th>\n",
       "    </tr>\n",
       "  </thead>\n",
       "  <tbody>\n",
       "    <tr>\n",
       "      <th>0</th>\n",
       "      <td>Sport</td>\n",
       "      <td>21-Jähriger fällt wohl bis Saisonende aus. Wie...</td>\n",
       "      <td>NaN</td>\n",
       "    </tr>\n",
       "    <tr>\n",
       "      <th>1</th>\n",
       "      <td>Kultur</td>\n",
       "      <td>'Erfundene Bilder zu Filmen, die als verloren ...</td>\n",
       "      <td>NaN</td>\n",
       "    </tr>\n",
       "    <tr>\n",
       "      <th>2</th>\n",
       "      <td>Web</td>\n",
       "      <td>Der frischgekürte CEO Sundar Pichai setzt auf ...</td>\n",
       "      <td>NaN</td>\n",
       "    </tr>\n",
       "    <tr>\n",
       "      <th>3</th>\n",
       "      <td>Wirtschaft</td>\n",
       "      <td>Putin: \"Einigung, dass wir Menge auf Niveau vo...</td>\n",
       "      <td>NaN</td>\n",
       "    </tr>\n",
       "    <tr>\n",
       "      <th>4</th>\n",
       "      <td>Inland</td>\n",
       "      <td>Estland sieht den künftigen österreichischen P...</td>\n",
       "      <td>NaN</td>\n",
       "    </tr>\n",
       "  </tbody>\n",
       "</table>\n",
       "</div>"
      ],
      "text/plain": [
       "        label                                               text  tag\n",
       "0       Sport  21-Jähriger fällt wohl bis Saisonende aus. Wie...  NaN\n",
       "1      Kultur  'Erfundene Bilder zu Filmen, die als verloren ...  NaN\n",
       "2         Web  Der frischgekürte CEO Sundar Pichai setzt auf ...  NaN\n",
       "3  Wirtschaft  Putin: \"Einigung, dass wir Menge auf Niveau vo...  NaN\n",
       "4      Inland  Estland sieht den künftigen österreichischen P...  NaN"
      ]
     },
     "execution_count": 40,
     "metadata": {},
     "output_type": "execute_result"
    }
   ],
   "source": [
    "# Import data\n",
    "df = pd.read_csv('input.txt', sep=\"\\t\")\n",
    "df.head()"
   ]
  },
  {
   "cell_type": "code",
   "execution_count": 41,
   "metadata": {},
   "outputs": [],
   "source": [
    "def get_cluster_complexity(data):\n",
    "    nCl = len(data.label.drop_duplicates())\n",
    "    words = stopwords.words(\"german\")\n",
    "    # Fit cluster model\n",
    "    text_clf = Pipeline([\n",
    "        ('vect', TfidfVectorizer(max_df=0.5, min_df=2)),\n",
    "        ('tfidf', TfidfTransformer()),\n",
    "        ('clf', KMeans(n_clusters=nCl, init='k-means++', max_iter=1000, n_init=1)),\n",
    "    ])\n",
    "    text_clf.fit(data.text)\n",
    "    vectorizer = TfidfVectorizer(max_df=0.5, min_df=2, stop_words=words)\n",
    "    X = vectorizer.fit_transform(data.text)\n",
    "\n",
    "    # Calculate complexity\n",
    "    pred = text_clf.predict(data.text)\n",
    "    #TODO: create mapping table for labels\n",
    "    _temp = data.copy()\n",
    "    _temp = _temp[_temp.label != '']\n",
    "    _temp['cluster'] = pred\n",
    "    cat_map = None\n",
    "    retobj = _temp.copy()\n",
    "    \n",
    "    silscore = silhouette_score(X, pred)\n",
    "    complexity = (silscore + 1)/2\n",
    "    print(f'\\t[INFO] Complexity Score -> {complexity}')\n",
    "    #return complexity, text_clf, cat_map\n",
    "    return retobj"
   ]
  },
  {
   "cell_type": "code",
   "execution_count": null,
   "metadata": {},
   "outputs": [],
   "source": [
    "# Fit Cluster and Return Complexity\n",
    "returnobject = get_cluster_complexity(df)"
   ]
  },
  {
   "cell_type": "code",
   "execution_count": null,
   "metadata": {},
   "outputs": [],
   "source": [
    "# Get Rank Table\n",
    "rank = returnobject.groupby([\"cluster\", \"label\"]).count().sort_values(\"text\").groupby(level=0).tail(1)\n",
    "print(rank)"
   ]
  },
  {
   "cell_type": "code",
   "execution_count": null,
   "metadata": {},
   "outputs": [],
   "source": [
    "# Create copy and remove text/tag\n",
    "rank_list = rank.copy()\n",
    "del rank['text'], rank['tag']"
   ]
  },
  {
   "cell_type": "code",
   "execution_count": null,
   "metadata": {},
   "outputs": [],
   "source": [
    "# Reset index\n",
    "rank = rank.reset_index()"
   ]
  },
  {
   "cell_type": "code",
   "execution_count": null,
   "metadata": {},
   "outputs": [],
   "source": [
    "# Create ranking\n",
    "rank.groupby('cluster')['label'].apply(lambda x: x).to_dict()"
   ]
  },
  {
   "cell_type": "code",
   "execution_count": null,
   "metadata": {},
   "outputs": [],
   "source": []
  }
 ],
 "metadata": {
  "kernelspec": {
   "display_name": "Python 3",
   "language": "python",
   "name": "python3"
  },
  "language_info": {
   "codemirror_mode": {
    "name": "ipython",
    "version": 3
   },
   "file_extension": ".py",
   "mimetype": "text/x-python",
   "name": "python",
   "nbconvert_exporter": "python",
   "pygments_lexer": "ipython3",
   "version": "3.7.1"
  }
 },
 "nbformat": 4,
 "nbformat_minor": 1
}
