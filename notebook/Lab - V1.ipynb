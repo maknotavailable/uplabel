{
 "cells": [
  {
   "cell_type": "markdown",
   "metadata": {},
   "source": [
    "# UpLabel Lab [MLADS 2019]\n",
    "\n",
    "\n",
    "Open Tasks:\n",
    "- Extend UpLabel for   \n",
    " - Named Entity Recognition   \n",
    " - Multi-Label Classification  \n",
    "- Evaluate results using a different Active Learning approach"
   ]
  },
  {
   "cell_type": "code",
   "execution_count": null,
   "metadata": {},
   "outputs": [],
   "source": [
    "#Structure\n",
    "## Modules (1by1)\n",
    "## Sample\n",
    "## run with own data (own, or list of X samples)\n",
    "## fill in blanks (active learning, update for entity extraction)"
   ]
  }
 ],
 "metadata": {
  "kernelspec": {
   "display_name": "Python (uplabel)",
   "language": "python",
   "name": "uplab"
  },
  "language_info": {
   "codemirror_mode": {
    "name": "ipython",
    "version": 3
   },
   "file_extension": ".py",
   "mimetype": "text/x-python",
   "name": "python",
   "nbconvert_exporter": "python",
   "pygments_lexer": "ipython3",
   "version": "3.6.6"
  }
 },
 "nbformat": 4,
 "nbformat_minor": 2
}
